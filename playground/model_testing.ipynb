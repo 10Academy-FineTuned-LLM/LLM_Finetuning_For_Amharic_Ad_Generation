{
 "cells": [
  {
   "cell_type": "code",
   "execution_count": 2,
   "metadata": {},
   "outputs": [
    {
     "data": {
      "text/html": [
       "<div>\n",
       "<style scoped>\n",
       "    .dataframe tbody tr th:only-of-type {\n",
       "        vertical-align: middle;\n",
       "    }\n",
       "\n",
       "    .dataframe tbody tr th {\n",
       "        vertical-align: top;\n",
       "    }\n",
       "\n",
       "    .dataframe thead th {\n",
       "        text-align: right;\n",
       "    }\n",
       "</style>\n",
       "<table border=\"1\" class=\"dataframe\">\n",
       "  <thead>\n",
       "    <tr style=\"text-align: right;\">\n",
       "      <th></th>\n",
       "      <th>Unnamed: 0</th>\n",
       "      <th>channel_id</th>\n",
       "      <th>message_id</th>\n",
       "      <th>text</th>\n",
       "      <th>label</th>\n",
       "      <th>email</th>\n",
       "    </tr>\n",
       "  </thead>\n",
       "  <tbody>\n",
       "    <tr>\n",
       "      <th>0</th>\n",
       "      <td>0</td>\n",
       "      <td>1490216693</td>\n",
       "      <td>8</td>\n",
       "      <td>መሰረት ተደርጎ ጥቃት ተፈፅሞብኛል በሚል በሀሰት የሽንት መሽኛ በፋሻና ፕ...</td>\n",
       "      <td>NaN</td>\n",
       "      <td>g2@trainee.com</td>\n",
       "    </tr>\n",
       "    <tr>\n",
       "      <th>1</th>\n",
       "      <td>1</td>\n",
       "      <td>1490216693</td>\n",
       "      <td>11</td>\n",
       "      <td>ኮምቦልቻ🔝 የጉዞ አድዋ ተጓዦች ኮምቦልቻ ገብተዋል። ሰላም እንደሆነ እና ...</td>\n",
       "      <td>NaN</td>\n",
       "      <td>g2@trainee.com</td>\n",
       "    </tr>\n",
       "    <tr>\n",
       "      <th>2</th>\n",
       "      <td>2</td>\n",
       "      <td>1490216693</td>\n",
       "      <td>13</td>\n",
       "      <td>‼️ በደቡብ ክልል በቴፒ ከተማ አደባባይ በወጡ ወጣቶች ላይ ፀጥታ አስከባ...</td>\n",
       "      <td>NaN</td>\n",
       "      <td>g2@trainee.com</td>\n",
       "    </tr>\n",
       "    <tr>\n",
       "      <th>3</th>\n",
       "      <td>3</td>\n",
       "      <td>1490216693</td>\n",
       "      <td>14</td>\n",
       "      <td>‼️ ከሁለት ወራት በፊት የሞትን ብርቱ ክንድ አሸንፈው ተነሱ የተባሉት አ...</td>\n",
       "      <td>NaN</td>\n",
       "      <td>g2@trainee.com</td>\n",
       "    </tr>\n",
       "    <tr>\n",
       "      <th>4</th>\n",
       "      <td>4</td>\n",
       "      <td>1490216693</td>\n",
       "      <td>15</td>\n",
       "      <td>ቴላቪቭ‼️ በሺህዎች የሚቆጠሩ ቤተ እስራኤላውያን አንድ በእስራኤል ፖሊስ ...</td>\n",
       "      <td>NaN</td>\n",
       "      <td>g2@trainee.com</td>\n",
       "    </tr>\n",
       "  </tbody>\n",
       "</table>\n",
       "</div>"
      ],
      "text/plain": [
       "   Unnamed: 0  channel_id  message_id  \\\n",
       "0           0  1490216693           8   \n",
       "1           1  1490216693          11   \n",
       "2           2  1490216693          13   \n",
       "3           3  1490216693          14   \n",
       "4           4  1490216693          15   \n",
       "\n",
       "                                                text label           email  \n",
       "0  መሰረት ተደርጎ ጥቃት ተፈፅሞብኛል በሚል በሀሰት የሽንት መሽኛ በፋሻና ፕ...   NaN  g2@trainee.com  \n",
       "1  ኮምቦልቻ🔝 የጉዞ አድዋ ተጓዦች ኮምቦልቻ ገብተዋል። ሰላም እንደሆነ እና ...   NaN  g2@trainee.com  \n",
       "2  ‼️ በደቡብ ክልል በቴፒ ከተማ አደባባይ በወጡ ወጣቶች ላይ ፀጥታ አስከባ...   NaN  g2@trainee.com  \n",
       "3  ‼️ ከሁለት ወራት በፊት የሞትን ብርቱ ክንድ አሸንፈው ተነሱ የተባሉት አ...   NaN  g2@trainee.com  \n",
       "4  ቴላቪቭ‼️ በሺህዎች የሚቆጠሩ ቤተ እስራኤላውያን አንድ በእስራኤል ፖሊስ ...   NaN  g2@trainee.com  "
      ]
     },
     "execution_count": 2,
     "metadata": {},
     "output_type": "execute_result"
    }
   ],
   "source": [
    "import pandas as pd\n",
    "df = pd.read_csv(\"/data/wasu_mohammed_labeled.csv\")\n",
    "df.head()"
   ]
  },
  {
   "cell_type": "code",
   "execution_count": 8,
   "metadata": {},
   "outputs": [
    {
     "data": {
      "text/plain": [
       "(16051, 6)"
      ]
     },
     "execution_count": 8,
     "metadata": {},
     "output_type": "execute_result"
    }
   ],
   "source": [
    "df.shape"
   ]
  },
  {
   "cell_type": "code",
   "execution_count": 6,
   "metadata": {},
   "outputs": [
    {
     "data": {
      "text/html": [
       "<div>\n",
       "<style scoped>\n",
       "    .dataframe tbody tr th:only-of-type {\n",
       "        vertical-align: middle;\n",
       "    }\n",
       "\n",
       "    .dataframe tbody tr th {\n",
       "        vertical-align: top;\n",
       "    }\n",
       "\n",
       "    .dataframe thead th {\n",
       "        text-align: right;\n",
       "    }\n",
       "</style>\n",
       "<table border=\"1\" class=\"dataframe\">\n",
       "  <thead>\n",
       "    <tr style=\"text-align: right;\">\n",
       "      <th></th>\n",
       "      <th>Unnamed: 0</th>\n",
       "      <th>channel_id</th>\n",
       "      <th>message_id</th>\n",
       "      <th>text</th>\n",
       "      <th>label</th>\n",
       "      <th>email</th>\n",
       "    </tr>\n",
       "  </thead>\n",
       "  <tbody>\n",
       "    <tr>\n",
       "      <th>16046</th>\n",
       "      <td>16046</td>\n",
       "      <td>1490216693</td>\n",
       "      <td>26113</td>\n",
       "      <td>አንዲት ኢትዮጵያዊት በዱባይ የ1 ሚሊዮን ዶላር ባለእድል ሆናለች ተብሏል።...</td>\n",
       "      <td>Not Avertisment</td>\n",
       "      <td>g2@trainee.com</td>\n",
       "    </tr>\n",
       "    <tr>\n",
       "      <th>16047</th>\n",
       "      <td>16047</td>\n",
       "      <td>1490216693</td>\n",
       "      <td>26114</td>\n",
       "      <td>ADVERTISMENT 🏑 መልካም ገና 🏑 🔜 💥ለ3 ቀናት ብቻ የሚቆይ ታላቅ...</td>\n",
       "      <td>financial service</td>\n",
       "      <td>g2@trainee.com</td>\n",
       "    </tr>\n",
       "    <tr>\n",
       "      <th>16048</th>\n",
       "      <td>16048</td>\n",
       "      <td>1490216693</td>\n",
       "      <td>26115</td>\n",
       "      <td>ድሬዎች🙏 ድሬ እውነትም የፍቅር ከተማ ሳምንቱን ሙሉ በውስጥሽ እንግዳ ሆኘ...</td>\n",
       "      <td>Not Avertisment</td>\n",
       "      <td>g2@trainee.com</td>\n",
       "    </tr>\n",
       "    <tr>\n",
       "      <th>16049</th>\n",
       "      <td>16049</td>\n",
       "      <td>1490216693</td>\n",
       "      <td>26116</td>\n",
       "      <td>ADVERTISMENT አስቸኳይ ሽያጭ…በልዩ ቅናሽ እነዚህን ጥራት ያላቸው ...</td>\n",
       "      <td>retail</td>\n",
       "      <td>g2@trainee.com</td>\n",
       "    </tr>\n",
       "    <tr>\n",
       "      <th>16050</th>\n",
       "      <td>16050</td>\n",
       "      <td>1490216693</td>\n",
       "      <td>26117</td>\n",
       "      <td>የአፍሪካ ህብረት ኮሚሽን ሊቀመንበር ሙሳ ፋኪ ማሃማት በኢትዮጵያ እና በሶ...</td>\n",
       "      <td>Not Avertisment</td>\n",
       "      <td>g2@trainee.com</td>\n",
       "    </tr>\n",
       "  </tbody>\n",
       "</table>\n",
       "</div>"
      ],
      "text/plain": [
       "       Unnamed: 0  channel_id  message_id  \\\n",
       "16046       16046  1490216693       26113   \n",
       "16047       16047  1490216693       26114   \n",
       "16048       16048  1490216693       26115   \n",
       "16049       16049  1490216693       26116   \n",
       "16050       16050  1490216693       26117   \n",
       "\n",
       "                                                    text              label  \\\n",
       "16046  አንዲት ኢትዮጵያዊት በዱባይ የ1 ሚሊዮን ዶላር ባለእድል ሆናለች ተብሏል።...    Not Avertisment   \n",
       "16047  ADVERTISMENT 🏑 መልካም ገና 🏑 🔜 💥ለ3 ቀናት ብቻ የሚቆይ ታላቅ...  financial service   \n",
       "16048  ድሬዎች🙏 ድሬ እውነትም የፍቅር ከተማ ሳምንቱን ሙሉ በውስጥሽ እንግዳ ሆኘ...    Not Avertisment   \n",
       "16049  ADVERTISMENT አስቸኳይ ሽያጭ…በልዩ ቅናሽ እነዚህን ጥራት ያላቸው ...             retail   \n",
       "16050  የአፍሪካ ህብረት ኮሚሽን ሊቀመንበር ሙሳ ፋኪ ማሃማት በኢትዮጵያ እና በሶ...    Not Avertisment   \n",
       "\n",
       "                email  \n",
       "16046  g2@trainee.com  \n",
       "16047  g2@trainee.com  \n",
       "16048  g2@trainee.com  \n",
       "16049  g2@trainee.com  \n",
       "16050  g2@trainee.com  "
      ]
     },
     "execution_count": 6,
     "metadata": {},
     "output_type": "execute_result"
    }
   ],
   "source": [
    "df['label'] = df['label'].fillna(\"Not Advertisement\")\n",
    "df.tail(5)"
   ]
  },
  {
   "cell_type": "code",
   "execution_count": null,
   "metadata": {},
   "outputs": [],
   "source": [
    "df"
   ]
  },
  {
   "cell_type": "code",
   "execution_count": 3,
   "metadata": {},
   "outputs": [],
   "source": [
    "from datasets import Dataset\n",
    "\n",
    "# Create a dictionary containing your Amharic text data\n",
    "data_dict = {\"text\": df['text'].tolist()}\n",
    "\n",
    "# Create a Dataset object\n",
    "dataset = Dataset.from_dict(data_dict)\n"
   ]
  },
  {
   "cell_type": "code",
   "execution_count": 5,
   "metadata": {},
   "outputs": [
    {
     "data": {
      "application/vnd.jupyter.widget-view+json": {
       "model_id": "c897f7ee43a4438e871e39359b139da1",
       "version_major": 2,
       "version_minor": 0
      },
      "text/plain": [
       "Saving the dataset (0/1 shards):   0%|          | 0/5357 [00:00<?, ? examples/s]"
      ]
     },
     "metadata": {},
     "output_type": "display_data"
    }
   ],
   "source": [
    "dataset.save_to_disk(\"../data/train\")"
   ]
  },
  {
   "cell_type": "code",
   "execution_count": 1,
   "metadata": {},
   "outputs": [],
   "source": [
    "# Copyright (c) Meta Platforms, Inc. and affiliates.\n",
    "# This software may be used and distributed according to the terms of the GNU General Public License version 3.\n",
    "\n",
    "from peft import PeftModel\n",
    "from transformers import LlamaForCausalLM, LlamaConfig\n",
    "\n",
    "# Function to load the main model for text generation\n",
    "def load_model(model_name, quantization):\n",
    "    model = LlamaForCausalLM.from_pretrained(\n",
    "        model_name,\n",
    "        return_dict=True,\n",
    "        load_in_8bit=quantization,\n",
    "        device_map=\"auto\",\n",
    "        low_cpu_mem_usage=True,\n",
    "    )\n",
    "    return model\n",
    "\n",
    "\n",
    "# Function to load the PeftModel for performance optimization\n",
    "def load_peft_model(model, peft_model):\n",
    "    peft_model = PeftModel.from_pretrained(model, peft_model)\n",
    "    return peft_model\n",
    "\n",
    "# Loading the model from config to load FSDP checkpoints into that\n",
    "def load_llama_from_config(config_path):\n",
    "    model_config = LlamaConfig.from_pretrained(config_path) \n",
    "    model = LlamaForCausalLM(config=model_config)\n",
    "    return model"
   ]
  },
  {
   "cell_type": "code",
   "execution_count": 1,
   "metadata": {},
   "outputs": [
    {
     "name": "stdout",
     "output_type": "stream",
     "text": [
      "['▁አ', 'ፖ', 'ሎ', '▁ካለ', '▁\"', '▁ኢንተርኔት', '▁ተቋርጦ', '▁ገንዘብ', '▁መላክ', 'ም', '▁መቀበል', 'ም', '▁አልቻል', 'ኩ', '\"', '▁ማለት', '▁የለም።', '▁*', '6', '85', '#', '▁በመደ', 'ወል', '▁አገልግሎቱን', '▁ይጠቀሙ', '።']\n"
     ]
    }
   ],
   "source": [
    "from transformers import LlamaTokenizer\n",
    "\n",
    "\n",
    "MAIN_PATH = '/model/Llama-2-7b-hf'\n",
    "tokenizer = LlamaTokenizer.from_pretrained(MAIN_PATH)\n",
    "\n",
    "example = 'አፖሎ ካለ \" ኢንተርኔት ተቋርጦ ገንዘብ መላክም መቀበልም አልቻልኩ\" ማለት የለም። *685# በመደወል አገልግሎቱን ይጠቀሙ።'\n",
    "\n",
    "\n",
    "# garri_tokenizer = AutoTokenizer.from_pretrained(\"__the tokenizer__ you guys used\")\n",
    "tokens = tokenizer.tokenize(example)\n",
    "print(tokens)"
   ]
  },
  {
   "cell_type": "code",
   "execution_count": 3,
   "metadata": {},
   "outputs": [
    {
     "name": "stdout",
     "output_type": "stream",
     "text": [
      "51008\n"
     ]
    }
   ],
   "source": [
    "print(len(tokenizer))"
   ]
  },
  {
   "cell_type": "code",
   "execution_count": 4,
   "metadata": {},
   "outputs": [
    {
     "name": "stdout",
     "output_type": "stream",
     "text": [
      "['▁አ', 'ፖ', 'ሎ', '▁ካለ', '▁\"', '▁ኢንተርኔት', '▁ተቋርጦ', '▁ገንዘብ', '▁መላክ', 'ም', '▁መቀበል', 'ም', '▁አልቻል', 'ኩ', '\"', '▁ማለት', '▁የለም።', '▁*', '6', '85', '#', '▁በመደ', 'ወል', '▁አገልግሎቱን', '▁ይጠቀሙ', '።']\n"
     ]
    }
   ],
   "source": [
    "example = 'አፖሎ ካለ \" ኢንተርኔት ተቋርጦ ገንዘብ መላክም መቀበልም አልቻልኩ\" ማለት የለም። *685# በመደወል አገልግሎቱን ይጠቀሙ።'\n",
    "\n",
    "\n",
    "tokens = tokenizer.tokenize(example)\n",
    "print(tokens)"
   ]
  },
  {
   "cell_type": "code",
   "execution_count": 9,
   "metadata": {},
   "outputs": [
    {
     "data": {
      "text/plain": [
       "'መሰረት ተደርጎ ጥቃት ተፈፅሞብኛል በሚል በሀሰት የሽንት መሽኛ በፋሻና ፕላስተር በመጠቅለል ግጭት ለመቀስቀስ የሞከረው ግለስብ ፖሊስ በቁጥጥር ስር ዋለ። ተጠርጣሪ ምንም አይነት ጉዳት ሳይደርስበት ሆን ብሎ ብሄሬን መሰረት አድርገው በቢላዋ የሽንት መሽኛ ብልቴን ቆርጠው ጉዳት አድርሰውብኛል በሚል ድርጊቱን ያልፈፀሙ ግለሰቦችን ስም በመጥቀስ ለፖሊስ አቤቱታ ያቀረበው። ፖሊስ የቀረበውን አቤቱታ ተቀብሎ ሁኔታውን ለማጣራት ተከሳሽን ወደ ህክምና የላከ ሲሆን በተደረገ የህክምና ምርመራ ግለሰቡ ላይ ምንም አይነት ጥቃት ማረጋገጥ መቻሉን ተናግሯል። አሁን ላይ ስር ውሎ ምርመራው እየተጣራ መሆኑን ፖሊስ ጨምሮ ገልፆ ማንኛውም ሰው በዜጎች መካከል ግጭቶችና አለመግባባቶች እንዲፈጠሩ ከሚያደርጉ ተግባራት ሊቆጠብና ሊርቅ እንደሚገባ አሳስቧል:: ምንጭ፦ ድሬ ፖሊስ'"
      ]
     },
     "execution_count": 9,
     "metadata": {},
     "output_type": "execute_result"
    }
   ],
   "source": [
    "df['text'][0]"
   ]
  },
  {
   "cell_type": "code",
   "execution_count": 12,
   "metadata": {},
   "outputs": [
    {
     "ename": "TypeError",
     "evalue": "unsupported operand type(s) for +=: 'int' and 'list'",
     "output_type": "error",
     "traceback": [
      "\u001b[0;31m---------------------------------------------------------------------------\u001b[0m",
      "\u001b[0;31mTypeError\u001b[0m                                 Traceback (most recent call last)",
      "Cell \u001b[0;32mIn[12], line 20\u001b[0m\n\u001b[1;32m     18\u001b[0m     total_word_count \u001b[38;5;241m+\u001b[39m\u001b[38;5;241m=\u001b[39m word_count\n\u001b[1;32m     19\u001b[0m     tokens \u001b[38;5;241m=\u001b[39m tokenizer\u001b[38;5;241m.\u001b[39mtokenize(text)\n\u001b[0;32m---> 20\u001b[0m     total_tokens\u001b[38;5;241m+\u001b[39m\u001b[38;5;241m=\u001b[39mtokens\n\u001b[1;32m     21\u001b[0m     \u001b[38;5;28mprint\u001b[39m(tokens)\n\u001b[1;32m     25\u001b[0m \u001b[38;5;66;03m# Display the total word count\u001b[39;00m\n",
      "\u001b[0;31mTypeError\u001b[0m: unsupported operand type(s) for +=: 'int' and 'list'"
     ]
    }
   ],
   "source": [
    "df = pd.read_csv(\"/data/wasu_mohammed_labeled.csv\")\n",
    "\n",
    "# Initialize a variable to accumulate the total word count\n",
    "total_word_count = 0\n",
    "total_tokens = 0\n",
    "# Iterate through each row of the DataFrame\n",
    "for index, row in df.iterrows():\n",
    "    # Get the text from the specified column\n",
    "    text = row['text']\n",
    "    if not isinstance(text, str): \n",
    "        continue\n",
    "\n",
    "    \n",
    "    # Count the number of words in the text\n",
    "    word_count = len(text.split())\n",
    "\n",
    "    # Accumulate the word count\n",
    "    total_word_count += word_count\n",
    "    tokens = tokenizer.tokenize(text)\n",
    "    total_tokens+=tokens\n",
    "    print(tokens)\n",
    "    \n",
    "\n",
    "\n",
    "# Display the total word count\n",
    "print(\"Total Word Count:\", total_word_count)\n",
    "print(\"Total tokens count: \",total_tokens)"
   ]
  },
  {
   "cell_type": "code",
   "execution_count": 13,
   "metadata": {},
   "outputs": [
    {
     "data": {
      "text/plain": [
       "0"
      ]
     },
     "execution_count": 13,
     "metadata": {},
     "output_type": "execute_result"
    }
   ],
   "source": [
    "total_tokens"
   ]
  },
  {
   "cell_type": "code",
   "execution_count": 11,
   "metadata": {},
   "outputs": [
    {
     "data": {
      "text/plain": [
       "(16051, 6)"
      ]
     },
     "execution_count": 11,
     "metadata": {},
     "output_type": "execute_result"
    }
   ],
   "source": [
    "df.shape"
   ]
  },
  {
   "cell_type": "code",
   "execution_count": 10,
   "metadata": {},
   "outputs": [
    {
     "data": {
      "text/plain": [
       "(16051, 6)"
      ]
     },
     "execution_count": 10,
     "metadata": {},
     "output_type": "execute_result"
    }
   ],
   "source": []
  },
  {
   "cell_type": "markdown",
   "metadata": {},
   "source": []
  },
  {
   "cell_type": "code",
   "execution_count": null,
   "metadata": {},
   "outputs": [],
   "source": []
  }
 ],
 "metadata": {
  "kernelspec": {
   "display_name": "base",
   "language": "python",
   "name": "python3"
  },
  "language_info": {
   "codemirror_mode": {
    "name": "ipython",
    "version": 3
   },
   "file_extension": ".py",
   "mimetype": "text/x-python",
   "name": "python",
   "nbconvert_exporter": "python",
   "pygments_lexer": "ipython3",
   "version": "3.11.5"
  }
 },
 "nbformat": 4,
 "nbformat_minor": 2
}
