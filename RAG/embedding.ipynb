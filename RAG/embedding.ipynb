{
 "cells": [
  {
   "cell_type": "code",
   "execution_count": 35,
   "id": "b4555d45-e0a1-49ab-a35c-560dd70dd476",
   "metadata": {},
   "outputs": [],
   "source": [
    "import torch\n",
    "import pandas as pd\n",
    "from transformers import AutoTokenizer, AutoModel"
   ]
  },
  {
   "cell_type": "code",
   "execution_count": 41,
   "id": "0a4961f2-4d59-4341-ad55-c7ad65a4f759",
   "metadata": {},
   "outputs": [],
   "source": [
    "text = [\"ሰላም \"\n",
    "        \"ሰላም\"]"
   ]
  },
  {
   "cell_type": "code",
   "execution_count": 47,
   "id": "ac187e94-fba7-412a-aad9-151cb721e098",
   "metadata": {},
   "outputs": [
    {
     "data": {
      "text/plain": [
       "'\\ntexts = []\\nfor filename in os.listdir(data_folder):\\n    file_path = os.path.join(data_folder, filename)\\n    with open(file_path, \"r\") as file:\\n        text = file.read()\\n        texts.append(text)\\n'"
      ]
     },
     "execution_count": 47,
     "metadata": {},
     "output_type": "execute_result"
    }
   ],
   "source": [
    "#model_path = \"path to the model\"\n",
    "#tokenizer_path = \"path to the toknizer\"\n",
    "#data = \"../data\"\n",
    "\"\"\"\n",
    "texts = []\n",
    "for filename in os.listdir(data_folder):\n",
    "    file_path = os.path.join(data_folder, filename)\n",
    "    with open(file_path, \"r\") as file:\n",
    "        text = file.read()\n",
    "        texts.append(text)\n",
    "\"\"\""
   ]
  },
  {
   "cell_type": "code",
   "execution_count": 42,
   "id": "511f571e-5a88-4596-a6a2-277b52502a56",
   "metadata": {},
   "outputs": [],
   "source": [
    "#The below codes to be used after the finetunning\n",
    "\n",
    "\n",
    "\n",
    "# Load the pre-trained model and tokenizer\n",
    "model_name = \"bert-base-uncased\"\n",
    "tokenizer = AutoTokenizer.from_pretrained(model_name)\n",
    "model = AutoModel.from_pretrained(model_name)\n"
   ]
  },
  {
   "cell_type": "code",
   "execution_count": 43,
   "id": "21276111-c01c-4e02-8e6c-83c129ba0baf",
   "metadata": {},
   "outputs": [],
   "source": [
    "# Tokenize the text and obtain input tensors\n",
    "inputs = tokenizer(text, return_tensors=\"pt\")"
   ]
  },
  {
   "cell_type": "code",
   "execution_count": 44,
   "id": "11d736c9-b8c7-4207-b710-1df0bd32eb82",
   "metadata": {},
   "outputs": [],
   "source": [
    "# Generate the embeddings\n",
    "with torch.no_grad():\n",
    "    outputs = model(**inputs)"
   ]
  },
  {
   "cell_type": "code",
   "execution_count": 45,
   "id": "fe000ea3-afa7-4a92-bdf7-55636c9d0db8",
   "metadata": {},
   "outputs": [
    {
     "name": "stdout",
     "output_type": "stream",
     "text": [
      "tensor([[-0.4491,  0.5118, -0.6756,  ..., -0.4606,  0.4608,  0.1361],\n",
      "        [-0.9468,  0.4196,  0.1265,  ..., -0.1335,  0.1860, -0.5233],\n",
      "        [-1.0003, -0.0448, -0.6555,  ...,  0.3113,  0.2651, -0.9006],\n",
      "        [ 0.5952,  0.2022, -0.4191,  ...,  0.2867, -0.5339, -0.3479]])\n"
     ]
    }
   ],
   "source": [
    "#poor embedding in the amharic language\n",
    "embeddings = outputs.last_hidden_state[0]  # Extract the embeddings\n",
    "df = pd.DataFrame(embeddings)\n",
    "print(embeddings)"
   ]
  },
  {
   "cell_type": "code",
   "execution_count": null,
   "id": "8a4752a5-c906-44cf-a1c1-0bcec123ae4d",
   "metadata": {},
   "outputs": [],
   "source": []
  }
 ],
 "metadata": {
  "kernelspec": {
   "display_name": "week_71",
   "language": "python",
   "name": "myenv"
  },
  "language_info": {
   "codemirror_mode": {
    "name": "ipython",
    "version": 3
   },
   "file_extension": ".py",
   "mimetype": "text/x-python",
   "name": "python",
   "nbconvert_exporter": "python",
   "pygments_lexer": "ipython3",
   "version": "3.11.7"
  }
 },
 "nbformat": 4,
 "nbformat_minor": 5
}
