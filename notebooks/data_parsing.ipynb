{
 "cells": [
  {
   "cell_type": "code",
   "execution_count": 33,
   "id": "cddba0d9-dcb3-4bfc-9d3d-616b12c226d1",
   "metadata": {},
   "outputs": [],
   "source": [
    "import json\n",
    "import re\n",
    "import os\n",
    "import sys, os\n",
    "import pandas as pd\n",
    "sys.path.append(os.path.abspath(os.path.join('../scr')))"
   ]
  },
  {
   "cell_type": "code",
   "execution_count": 34,
   "id": "43523c47",
   "metadata": {},
   "outputs": [],
   "source": [
    "emoji_pattern = re.compile(\"[\"\n",
    "                                u\"\\U0001F600-\\U0001F64F\"  # Emoticons\n",
    "                                u\"\\U0001F300-\\U0001F5FF\"  # Miscellaneous Symbols and Pictographs\n",
    "                                u\"\\U0001F680-\\U0001F6FF\"  # Transport & Map Symbols\n",
    "                                u\"\\U0001F700-\\U0001F77F\"  # Alchemical Symbols\n",
    "                                u\"\\U0001F780-\\U0001F7FF\"  # Geometric Shapes Extended\n",
    "                                u\"\\U0001F800-\\U0001F8FF\"  # Supplemental Arrows-C\n",
    "                                u\"\\U0001F900-\\U0001F9FF\"  # Supplemental Symbols and Pictographs\n",
    "                                u\"\\U0001FA00-\\U0001FA6F\"  # Chess Symbols\n",
    "                                u\"\\U0001FA70-\\U0001FAFF\"  # Symbols and Pictographs Extended-A\n",
    "                                u\"\\u2600-\\u26FF\"  # Miscellaneous Symbols\n",
    "                                u\"\\u2700-\\u27BF\"  # Dingbats\n",
    "                                u\"\\u2B50\"  # Star\n",
    "                                u\"\\U0001F1E6-\\U0001F1FF\"  # Country Flags\n",
    "                                \"]+\", flags=re.UNICODE)\n",
    "symbols = re.compile(\"[\"\n",
    "                            \"\\\"\"\n",
    "                            \"\\“\"\n",
    "                            \"\\\"\"\n",
    "                            \"\\'\"\n",
    "                            \"\\-\"\n",
    "                            \"\\*\"\n",
    "                            \"\\•\"\n",
    "                            \"\\ℹ\"\n",
    "                            \"\\﻿\"\n",
    "                            \"\\_\"\n",
    "                            \"]+\")\n",
    "url_pattern = r'http[s]?://(?:[a-zA-Z]|[0-9]|[$-_@.&+]|[!*\\\\(\\\\),]|(?:%[0-9a-fA-F][0-9a-fA-F]))+'\n",
    "mention_pattern = r'@(\\w+)'"
   ]
  },
  {
   "cell_type": "code",
   "execution_count": 44,
   "id": "258fae53-bf3c-4643-9381-d1c8906f9978",
   "metadata": {},
   "outputs": [],
   "source": [
    "def read_file(file_path: str) -> dict:\n",
    "    # Open the file for reading\n",
    "    with open(file_path, 'r') as file:\n",
    "        # Load the JSON data from the file\n",
    "        data = json.load(file)\n",
    "        return data"
   ]
  },
  {
   "cell_type": "code",
   "execution_count": 45,
   "id": "2e689d7b",
   "metadata": {},
   "outputs": [],
   "source": [
    "def write_file(file_path: str, data: dict) -> None:\n",
    "    # Open the file for writing\n",
    "    with open(file_path, 'w') as file:\n",
    "        # Dump the JSON data to the file\n",
    "        json.dump(data, file, indent=2)"
   ]
  },
  {
   "cell_type": "code",
   "execution_count": 52,
   "id": "863a47e1",
   "metadata": {},
   "outputs": [],
   "source": [
    "\n",
    "def parse_text(text: any) -> str:\n",
    "    if isinstance(text, str):\n",
    "        return text\n",
    "    elif isinstance(text, list):\n",
    "        contents = []\n",
    "        for item in text:\n",
    "            if isinstance(item, str):\n",
    "                contents.append(item)\n",
    "            elif isinstance(item, dict):\n",
    "                contents.append(item['text'])\n",
    "        return \"\".join(contents)\n",
    "    else:\n",
    "        return \"\""
   ]
  },
  {
   "cell_type": "code",
   "execution_count": 53,
   "id": "cd10c4f9",
   "metadata": {},
   "outputs": [],
   "source": [
    "def parse_messages(messages: list) -> dict:\n",
    "    parsed_messages = {\n",
    "        'id': [],\n",
    "        'text': [],\n",
    "        'date': []\n",
    "    }\n",
    "    for message in messages:\n",
    "        if message['type'] != 'message' or len(message['text']) == 0:\n",
    "            continue\n",
    "        parsed_messages['id'].append(message['id'])\n",
    "        text = parse_text(message['text'])\n",
    "        parsed_messages['text'].append(text)\n",
    "        parsed_messages['date'].append(message['date'])\n",
    "    return parsed_messages"
   ]
  },
  {
   "cell_type": "code",
   "execution_count": 54,
   "id": "3ef176b8",
   "metadata": {},
   "outputs": [],
   "source": [
    "def extract_hashtags(text: str) -> list:\n",
    "    return [word for word in text.split() if word.startswith('#')]\n",
    "\n",
    "def extract_emojis(self, text):\n",
    "    return ''.join(self.emoji_pattern.findall(text))\n",
    "\n",
    "def remove_emojis(self, text):\n",
    "    return self.emoji_pattern.sub('', text)\n",
    "\n",
    "def extract_symbols(self, text):\n",
    "    return ''.join(self.symbols.findall(text))\n",
    "\n",
    "def remove_symbols(self, text):\n",
    "    return self.symbols.sub(' ', text)\n",
    "\n",
    "def extract_urls(self, text):\n",
    "    return re.findall(self.url_pattern, text)\n",
    "\n",
    "def extract_mentions(self, text):\n",
    "    return re.findall(self.mention_pattern, text)"
   ]
  },
  {
   "cell_type": "code",
   "execution_count": 55,
   "id": "1b6e3dea",
   "metadata": {},
   "outputs": [],
   "source": [
    "raw_dir = \"../data/raw\"\n",
    "parsed_dir = \"../data/parsed\"\n",
    "file_name = \"4-3-3 FAST SPORT™\""
   ]
  },
  {
   "cell_type": "code",
   "execution_count": 56,
   "id": "976bfc02",
   "metadata": {},
   "outputs": [],
   "source": [
    "data = read_file(f'{raw_dir}/{file_name}.json')"
   ]
  },
  {
   "cell_type": "code",
   "execution_count": 57,
   "id": "5d4474dd",
   "metadata": {},
   "outputs": [],
   "source": [
    "parsed_message = parse_messages(data['messages'])"
   ]
  },
  {
   "cell_type": "code",
   "execution_count": 58,
   "id": "ac29f8de",
   "metadata": {},
   "outputs": [
    {
     "data": {
      "text/html": [
       "<div>\n",
       "<style scoped>\n",
       "    .dataframe tbody tr th:only-of-type {\n",
       "        vertical-align: middle;\n",
       "    }\n",
       "\n",
       "    .dataframe tbody tr th {\n",
       "        vertical-align: top;\n",
       "    }\n",
       "\n",
       "    .dataframe thead th {\n",
       "        text-align: right;\n",
       "    }\n",
       "</style>\n",
       "<table border=\"1\" class=\"dataframe\">\n",
       "  <thead>\n",
       "    <tr style=\"text-align: right;\">\n",
       "      <th></th>\n",
       "      <th>text</th>\n",
       "      <th>date</th>\n",
       "    </tr>\n",
       "    <tr>\n",
       "      <th>id</th>\n",
       "      <th></th>\n",
       "      <th></th>\n",
       "    </tr>\n",
       "  </thead>\n",
       "  <tbody>\n",
       "    <tr>\n",
       "      <th>30554</th>\n",
       "      <td>አርሰናል የታሚ አብርሀምን ፊርማ ስፐርስ እና ዌስትሀምን በልጦ ለማግኘት ...</td>\n",
       "      <td>2021-07-21T11:15:04</td>\n",
       "    </tr>\n",
       "    <tr>\n",
       "      <th>31040</th>\n",
       "      <td>ዶኒ ቫንዴቢክ ከቤቱ አይለቅም!\\n\\nየማንቸስተር ዩናይትዱ ኮከብ ዶኒ ቫን...</td>\n",
       "      <td>2021-07-22T07:29:56</td>\n",
       "    </tr>\n",
       "    <tr>\n",
       "      <th>31041</th>\n",
       "      <td>1982 \"ኬን ቤትስ ቼልሲን በ 1 ሚ ፓ ገዛ\\n\\n2003 ኬን ቤትስ ቼል...</td>\n",
       "      <td>2021-07-22T07:29:56</td>\n",
       "    </tr>\n",
       "    <tr>\n",
       "      <th>31042</th>\n",
       "      <td>ሉይ ቫን ሃል የ ኔዘርላንድ ብሄራዊ ቡድን አሰልጣኝ ተደርጎ ተሹሙዋል የ ...</td>\n",
       "      <td>2021-07-22T07:29:56</td>\n",
       "    </tr>\n",
       "    <tr>\n",
       "      <th>31043</th>\n",
       "      <td>የፓውሎ ዲባላ ወኪል በአጥቂው የውል ማራዘሚያ ላይ ለመወያየት በወሩ መጨረ...</td>\n",
       "      <td>2021-07-22T07:29:56</td>\n",
       "    </tr>\n",
       "  </tbody>\n",
       "</table>\n",
       "</div>"
      ],
      "text/plain": [
       "                                                    text                 date\n",
       "id                                                                           \n",
       "30554  አርሰናል የታሚ አብርሀምን ፊርማ ስፐርስ እና ዌስትሀምን በልጦ ለማግኘት ...  2021-07-21T11:15:04\n",
       "31040  ዶኒ ቫንዴቢክ ከቤቱ አይለቅም!\\n\\nየማንቸስተር ዩናይትዱ ኮከብ ዶኒ ቫን...  2021-07-22T07:29:56\n",
       "31041  1982 \"ኬን ቤትስ ቼልሲን በ 1 ሚ ፓ ገዛ\\n\\n2003 ኬን ቤትስ ቼል...  2021-07-22T07:29:56\n",
       "31042  ሉይ ቫን ሃል የ ኔዘርላንድ ብሄራዊ ቡድን አሰልጣኝ ተደርጎ ተሹሙዋል የ ...  2021-07-22T07:29:56\n",
       "31043  የፓውሎ ዲባላ ወኪል በአጥቂው የውል ማራዘሚያ ላይ ለመወያየት በወሩ መጨረ...  2021-07-22T07:29:56"
      ]
     },
     "execution_count": 58,
     "metadata": {},
     "output_type": "execute_result"
    }
   ],
   "source": [
    "# Convert the dictionary to a Pandas DataFrame\n",
    "df = pd.DataFrame(parsed_message)\n",
    "df.set_index('id', inplace=True)\n",
    "df.head()"
   ]
  },
  {
   "cell_type": "code",
   "execution_count": 59,
   "id": "0b41a7da",
   "metadata": {},
   "outputs": [],
   "source": [
    "df.to_csv(f'{parsed_dir}/{file_name}.csv')"
   ]
  },
  {
   "cell_type": "code",
   "execution_count": null,
   "id": "4a318657",
   "metadata": {},
   "outputs": [],
   "source": []
  }
 ],
 "metadata": {
  "kernelspec": {
   "display_name": "Python 3 (ipykernel)",
   "language": "python",
   "name": "python3"
  },
  "language_info": {
   "codemirror_mode": {
    "name": "ipython",
    "version": 3
   },
   "file_extension": ".py",
   "mimetype": "text/x-python",
   "name": "python",
   "nbconvert_exporter": "python",
   "pygments_lexer": "ipython3",
   "version": "3.10.12"
  }
 },
 "nbformat": 4,
 "nbformat_minor": 5
}
