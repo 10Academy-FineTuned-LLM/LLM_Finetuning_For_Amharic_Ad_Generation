{
 "cells": [
  {
   "cell_type": "markdown",
   "metadata": {},
   "source": [
    "#### Import modules"
   ]
  },
  {
   "cell_type": "code",
   "execution_count": 46,
   "metadata": {},
   "outputs": [],
   "source": [
    "import sys, os\n",
    "import pandas as pd\n",
    "sys.path.append(os.path.abspath(os.path.join('../src/')))"
   ]
  },
  {
   "cell_type": "code",
   "execution_count": 47,
   "metadata": {},
   "outputs": [],
   "source": [
    "from utils.utils import Util"
   ]
  },
  {
   "cell_type": "code",
   "execution_count": 48,
   "metadata": {},
   "outputs": [],
   "source": [
    "util = Util()"
   ]
  },
  {
   "cell_type": "markdown",
   "metadata": {},
   "source": [
    "#### Set path for directories"
   ]
  },
  {
   "cell_type": "code",
   "execution_count": 49,
   "metadata": {},
   "outputs": [],
   "source": [
    "raw_dir = \"../data/raw\"\n",
    "parsed_dir = \"../data/parsed\""
   ]
  },
  {
   "cell_type": "markdown",
   "metadata": {},
   "source": [
    "#### Read all the json files and parse and save"
   ]
  },
  {
   "cell_type": "code",
   "execution_count": 50,
   "metadata": {},
   "outputs": [],
   "source": [
    "def process_raw_data(folder_path):\n",
    "    # Check if the provided path is a directory\n",
    "    if not os.path.isdir(folder_path):\n",
    "        print(f\"{folder_path} is not a valid directory.\")\n",
    "        return\n",
    "\n",
    "    # Loop through each file in the directory\n",
    "    for filename in os.listdir(folder_path):\n",
    "        print(filename)\n",
    "        data = util.read_file(f'{folder_path}/{filename}')\n",
    "        parsed_message = util.parse_messages(data['messages'])\n",
    "\n",
    "        # Convert the dictionary to a Pandas DataFrame\n",
    "        df = pd.DataFrame(parsed_message)\n",
    "        df.set_index('id', inplace=True)\n",
    "        base_name, extension = os.path.splitext(filename)\n",
    "        df.to_csv(f'{parsed_dir}/{base_name}.csv')\n",
    "        "
   ]
  },
  {
   "cell_type": "code",
   "execution_count": 51,
   "metadata": {},
   "outputs": [
    {
     "name": "stdout",
     "output_type": "stream",
     "text": [
      "Wasu Mohammed(ዋሱ መሀመድ).json\n",
      "ኢትዮ መረጃ - NEWS.json\n",
      "Ethio University News®.json\n",
      "QUBEE ACADEMY.json\n",
      "ኢትዮ ሪያል ማድሪድ.json\n",
      "Manchester United Fans™.json\n",
      "History 📚.json\n",
      "አስደናቂ እውነታዎች 🌍.json\n",
      "ETHIO ARSENAL.json\n",
      "TIKVAH.json\n",
      "DREAM SPORT ™.json\n",
      "DREAM APP™.json\n",
      "DID U KNOW️⁉️.json\n",
      "አዲስ ነገር መረጃ.json\n",
      "ETHIO-MEREJA®.json\n",
      "4-3-3 FAST SPORT™.json\n",
      "🔶Wonder🤔.json\n",
      "90 ደቂቃ ስፖርት™.json\n",
      "Sheger Press️️.json\n",
      "ዳጉ ስፖርት DAGU SPORT.json\n",
      "💕🎄ፍቅርን በቃላት🎄💕.json\n",
      "ብስራት ስፖርት.json\n",
      "THE GOAT LM♾ 🐐.json\n",
      "😍Best Profile Pictures😍.json\n",
      "YeneTube.json\n"
     ]
    }
   ],
   "source": [
    "process_raw_data(raw_dir)"
   ]
  },
  {
   "cell_type": "code",
   "execution_count": null,
   "metadata": {},
   "outputs": [],
   "source": []
  }
 ],
 "metadata": {
  "kernelspec": {
   "display_name": "Python 3 (ipykernel)",
   "language": "python",
   "name": "python3"
  },
  "language_info": {
   "codemirror_mode": {
    "name": "ipython",
    "version": 3
   },
   "file_extension": ".py",
   "mimetype": "text/x-python",
   "name": "python",
   "nbconvert_exporter": "python",
   "pygments_lexer": "ipython3",
   "version": "3.10.12"
  }
 },
 "nbformat": 4,
 "nbformat_minor": 4
}
