{
 "cells": [
  {
   "cell_type": "markdown",
   "metadata": {},
   "source": [
    "#### Import modules"
   ]
  },
  {
   "cell_type": "code",
   "execution_count": 1,
   "metadata": {},
   "outputs": [
    {
     "name": "stderr",
     "output_type": "stream",
     "text": [
      "/tmp/ipykernel_169491/907547263.py:2: DeprecationWarning: \n",
      "Pyarrow will become a required dependency of pandas in the next major release of pandas (pandas 3.0),\n",
      "(to allow more performant data types, such as the Arrow string type, and better interoperability with other libraries)\n",
      "but was not found to be installed on your system.\n",
      "If this would cause problems for you,\n",
      "please provide us feedback at https://github.com/pandas-dev/pandas/issues/54466\n",
      "        \n",
      "  import pandas as pd\n"
     ]
    }
   ],
   "source": [
    "import sys, os\n",
    "import pandas as pd\n",
    "sys.path.append(os.path.abspath(os.path.join('../src/')))"
   ]
  },
  {
   "cell_type": "code",
   "execution_count": 2,
   "metadata": {},
   "outputs": [],
   "source": [
    "from utils.utils import Util"
   ]
  },
  {
   "cell_type": "code",
   "execution_count": 3,
   "metadata": {},
   "outputs": [],
   "source": [
    "util = Util()"
   ]
  },
  {
   "cell_type": "markdown",
   "metadata": {},
   "source": [
    "#### Set path for directories"
   ]
  },
  {
   "cell_type": "code",
   "execution_count": 4,
   "metadata": {},
   "outputs": [],
   "source": [
    "raw_dir = \"../data/raw\"\n",
    "parsed_dir = \"../data/parsed\""
   ]
  },
  {
   "cell_type": "markdown",
   "metadata": {},
   "source": [
    "#### Read all the json files and parse and save"
   ]
  },
  {
   "cell_type": "code",
   "execution_count": 10,
   "metadata": {},
   "outputs": [],
   "source": [
    "def process_raw_data(folder_path):\n",
    "    # Check if the provided path is a directory\n",
    "    if not os.path.isdir(folder_path):\n",
    "        print(f\"{folder_path} is not a valid directory.\")\n",
    "        return\n",
    "\n",
    "    # Loop through each file in the directory\n",
    "    for filename in os.listdir(folder_path):\n",
    "        print(filename)\n",
    "        data = util.read_file(f'{folder_path}/{filename}')\n",
    "        parsed_message = util.parse_messages(data['messages'])\n",
    "\n",
    "        # Convert the dictionary to a Pandas DataFrame\n",
    "        df = pd.DataFrame(parsed_message)\n",
    "        df.set_index('id', inplace=True)\n",
    "        base_name, extension = os.path.splitext(filename)\n",
    "        # check if parsed_dir exists\n",
    "        if not os.path.exists(parsed_dir):\n",
    "            os.makedirs(parsed_dir)\n",
    "        df.to_csv(f'{parsed_dir}/{base_name}.csv')\n",
    "        "
   ]
  },
  {
   "cell_type": "code",
   "execution_count": 11,
   "metadata": {},
   "outputs": [
    {
     "name": "stdout",
     "output_type": "stream",
     "text": [
      "TIKVAH.json\n",
      "ኢትዮ መረጃ - NEWS.json\n",
      "DID U KNOW️⁉️.json\n",
      "THE GOAT LM♾ 🐐.json\n",
      "YeneTube.json\n",
      "🔶Wonder🤔.json\n",
      "ብስራት ስፖርት.json\n",
      "90 ደቂቃ ስፖርት™.json\n",
      "Ethio University News®.json\n",
      "ዳጉ ስፖርት DAGU SPORT.json\n",
      "Wasu Mohammed(ዋሱ መሀመድ).json\n",
      "DREAM APP™.json\n",
      "ETHIO-MEREJA®.json\n",
      "Sheger Press️️.json\n",
      "ኢትዮ ሪያል ማድሪድ.json\n",
      "አዲስ ነገር መረጃ.json\n",
      "DREAM SPORT ™.json\n",
      "💕🎄ፍቅርን በቃላት🎄💕.json\n",
      "😍Best Profile Pictures😍.json\n",
      "QUBEE ACADEMY.json\n",
      "History 📚.json\n",
      "ETHIO ARSENAL.json\n",
      "4-3-3 FAST SPORT™.json\n",
      "አስደናቂ እውነታዎች 🌍.json\n",
      "Manchester United Fans™.json\n"
     ]
    }
   ],
   "source": [
    "process_raw_data(raw_dir)"
   ]
  },
  {
   "cell_type": "code",
   "execution_count": null,
   "metadata": {},
   "outputs": [],
   "source": []
  }
 ],
 "metadata": {
  "kernelspec": {
   "display_name": "Python 3 (ipykernel)",
   "language": "python",
   "name": "python3"
  },
  "language_info": {
   "codemirror_mode": {
    "name": "ipython",
    "version": 3
   },
   "file_extension": ".py",
   "mimetype": "text/x-python",
   "name": "python",
   "nbconvert_exporter": "python",
   "pygments_lexer": "ipython3",
   "version": "3.10.12"
  }
 },
 "nbformat": 4,
 "nbformat_minor": 4
}
