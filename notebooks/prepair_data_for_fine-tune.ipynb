{
 "cells": [
  {
   "cell_type": "code",
   "execution_count": 2,
   "metadata": {},
   "outputs": [],
   "source": [
    "import pandas as pd\n",
    "import json\n",
    "import time"
   ]
  },
  {
   "cell_type": "code",
   "execution_count": 3,
   "metadata": {},
   "outputs": [],
   "source": [
    "file_t = '/data/tikvah-(15000-30000).csv'\n",
    "file_w = '/data/wasu_mohammed_labeled.csv'\n",
    "\n",
    "df = pd.read_csv(file_t, index_col=False)\n",
    "df2 = pd.read_csv(file_w, index_col=False)"
   ]
  },
  {
   "cell_type": "code",
   "execution_count": 4,
   "metadata": {},
   "outputs": [
    {
     "data": {
      "text/html": [
       "<div>\n",
       "<style scoped>\n",
       "    .dataframe tbody tr th:only-of-type {\n",
       "        vertical-align: middle;\n",
       "    }\n",
       "\n",
       "    .dataframe tbody tr th {\n",
       "        vertical-align: top;\n",
       "    }\n",
       "\n",
       "    .dataframe thead th {\n",
       "        text-align: right;\n",
       "    }\n",
       "</style>\n",
       "<table border=\"1\" class=\"dataframe\">\n",
       "  <thead>\n",
       "    <tr style=\"text-align: right;\">\n",
       "      <th></th>\n",
       "      <th>Unnamed: 0</th>\n",
       "      <th>channel_id</th>\n",
       "      <th>message_id</th>\n",
       "      <th>text</th>\n",
       "      <th>label</th>\n",
       "      <th>email</th>\n",
       "    </tr>\n",
       "  </thead>\n",
       "  <tbody>\n",
       "    <tr>\n",
       "      <th>0</th>\n",
       "      <td>0</td>\n",
       "      <td>1130580549</td>\n",
       "      <td>15001</td>\n",
       "      <td>ጨና⬆️ በከፋ ዞን ወረዳ 18/01/2011 ኣም ባለቤትነቱ የማን እንደ ሆ...</td>\n",
       "      <td>NaN</td>\n",
       "      <td>g2@trainee.com</td>\n",
       "    </tr>\n",
       "    <tr>\n",
       "      <th>1</th>\n",
       "      <td>1</td>\n",
       "      <td>1130580549</td>\n",
       "      <td>15002</td>\n",
       "      <td>ለፌደራሉ መንግስት‼️ በቤንሻንጉል ጉምዝ ክልል ያለውን ሁኔታ በፍጥነት መ...</td>\n",
       "      <td>NaN</td>\n",
       "      <td>g2@trainee.com</td>\n",
       "    </tr>\n",
       "    <tr>\n",
       "      <th>2</th>\n",
       "      <td>2</td>\n",
       "      <td>1130580549</td>\n",
       "      <td>15006</td>\n",
       "      <td>ኢንጂነር ታከለ ኡማ⬆️ የሀገር ሽማግሌዎች ተግባር አለምን ያስደነቀ፣ ለሁ...</td>\n",
       "      <td>NaN</td>\n",
       "      <td>g2@trainee.com</td>\n",
       "    </tr>\n",
       "    <tr>\n",
       "      <th>3</th>\n",
       "      <td>3</td>\n",
       "      <td>1130580549</td>\n",
       "      <td>15007</td>\n",
       "      <td>📌መኤሶ ትላንት 2 ሰኣት ከጅቡቲ ተነስተው የነበሩ ተጓዦች ካሳ አልተከፈለ...</td>\n",
       "      <td>NaN</td>\n",
       "      <td>g2@trainee.com</td>\n",
       "    </tr>\n",
       "    <tr>\n",
       "      <th>4</th>\n",
       "      <td>4</td>\n",
       "      <td>1130580549</td>\n",
       "      <td>15008</td>\n",
       "      <td>የኢሬቻ የሰላም ሽልማት🕊 ሀገር በቀል ባህሎችን በማጎልበት ለሀገራዊ ፋይዳ...</td>\n",
       "      <td>NaN</td>\n",
       "      <td>g2@trainee.com</td>\n",
       "    </tr>\n",
       "  </tbody>\n",
       "</table>\n",
       "</div>"
      ],
      "text/plain": [
       "   Unnamed: 0  channel_id  message_id  \\\n",
       "0           0  1130580549       15001   \n",
       "1           1  1130580549       15002   \n",
       "2           2  1130580549       15006   \n",
       "3           3  1130580549       15007   \n",
       "4           4  1130580549       15008   \n",
       "\n",
       "                                                text label           email  \n",
       "0  ጨና⬆️ በከፋ ዞን ወረዳ 18/01/2011 ኣም ባለቤትነቱ የማን እንደ ሆ...   NaN  g2@trainee.com  \n",
       "1  ለፌደራሉ መንግስት‼️ በቤንሻንጉል ጉምዝ ክልል ያለውን ሁኔታ በፍጥነት መ...   NaN  g2@trainee.com  \n",
       "2  ኢንጂነር ታከለ ኡማ⬆️ የሀገር ሽማግሌዎች ተግባር አለምን ያስደነቀ፣ ለሁ...   NaN  g2@trainee.com  \n",
       "3  📌መኤሶ ትላንት 2 ሰኣት ከጅቡቲ ተነስተው የነበሩ ተጓዦች ካሳ አልተከፈለ...   NaN  g2@trainee.com  \n",
       "4  የኢሬቻ የሰላም ሽልማት🕊 ሀገር በቀል ባህሎችን በማጎልበት ለሀገራዊ ፋይዳ...   NaN  g2@trainee.com  "
      ]
     },
     "execution_count": 4,
     "metadata": {},
     "output_type": "execute_result"
    }
   ],
   "source": [
    "df.head()"
   ]
  },
  {
   "cell_type": "code",
   "execution_count": 5,
   "metadata": {},
   "outputs": [
    {
     "data": {
      "text/html": [
       "<div>\n",
       "<style scoped>\n",
       "    .dataframe tbody tr th:only-of-type {\n",
       "        vertical-align: middle;\n",
       "    }\n",
       "\n",
       "    .dataframe tbody tr th {\n",
       "        vertical-align: top;\n",
       "    }\n",
       "\n",
       "    .dataframe thead th {\n",
       "        text-align: right;\n",
       "    }\n",
       "</style>\n",
       "<table border=\"1\" class=\"dataframe\">\n",
       "  <thead>\n",
       "    <tr style=\"text-align: right;\">\n",
       "      <th></th>\n",
       "      <th>Unnamed: 0</th>\n",
       "      <th>channel_id</th>\n",
       "      <th>message_id</th>\n",
       "      <th>text</th>\n",
       "      <th>label</th>\n",
       "      <th>email</th>\n",
       "    </tr>\n",
       "  </thead>\n",
       "  <tbody>\n",
       "    <tr>\n",
       "      <th>0</th>\n",
       "      <td>0</td>\n",
       "      <td>1130580549</td>\n",
       "      <td>15001</td>\n",
       "      <td>ጨና⬆️ በከፋ ዞን ወረዳ 18/01/2011 ኣም ባለቤትነቱ የማን እንደ ሆ...</td>\n",
       "      <td>NaN</td>\n",
       "      <td>g2@trainee.com</td>\n",
       "    </tr>\n",
       "    <tr>\n",
       "      <th>1</th>\n",
       "      <td>1</td>\n",
       "      <td>1130580549</td>\n",
       "      <td>15002</td>\n",
       "      <td>ለፌደራሉ መንግስት‼️ በቤንሻንጉል ጉምዝ ክልል ያለውን ሁኔታ በፍጥነት መ...</td>\n",
       "      <td>NaN</td>\n",
       "      <td>g2@trainee.com</td>\n",
       "    </tr>\n",
       "    <tr>\n",
       "      <th>2</th>\n",
       "      <td>2</td>\n",
       "      <td>1130580549</td>\n",
       "      <td>15006</td>\n",
       "      <td>ኢንጂነር ታከለ ኡማ⬆️ የሀገር ሽማግሌዎች ተግባር አለምን ያስደነቀ፣ ለሁ...</td>\n",
       "      <td>NaN</td>\n",
       "      <td>g2@trainee.com</td>\n",
       "    </tr>\n",
       "    <tr>\n",
       "      <th>3</th>\n",
       "      <td>3</td>\n",
       "      <td>1130580549</td>\n",
       "      <td>15007</td>\n",
       "      <td>📌መኤሶ ትላንት 2 ሰኣት ከጅቡቲ ተነስተው የነበሩ ተጓዦች ካሳ አልተከፈለ...</td>\n",
       "      <td>NaN</td>\n",
       "      <td>g2@trainee.com</td>\n",
       "    </tr>\n",
       "    <tr>\n",
       "      <th>4</th>\n",
       "      <td>4</td>\n",
       "      <td>1130580549</td>\n",
       "      <td>15008</td>\n",
       "      <td>የኢሬቻ የሰላም ሽልማት🕊 ሀገር በቀል ባህሎችን በማጎልበት ለሀገራዊ ፋይዳ...</td>\n",
       "      <td>NaN</td>\n",
       "      <td>g2@trainee.com</td>\n",
       "    </tr>\n",
       "  </tbody>\n",
       "</table>\n",
       "</div>"
      ],
      "text/plain": [
       "   Unnamed: 0  channel_id  message_id  \\\n",
       "0           0  1130580549       15001   \n",
       "1           1  1130580549       15002   \n",
       "2           2  1130580549       15006   \n",
       "3           3  1130580549       15007   \n",
       "4           4  1130580549       15008   \n",
       "\n",
       "                                                text label           email  \n",
       "0  ጨና⬆️ በከፋ ዞን ወረዳ 18/01/2011 ኣም ባለቤትነቱ የማን እንደ ሆ...   NaN  g2@trainee.com  \n",
       "1  ለፌደራሉ መንግስት‼️ በቤንሻንጉል ጉምዝ ክልል ያለውን ሁኔታ በፍጥነት መ...   NaN  g2@trainee.com  \n",
       "2  ኢንጂነር ታከለ ኡማ⬆️ የሀገር ሽማግሌዎች ተግባር አለምን ያስደነቀ፣ ለሁ...   NaN  g2@trainee.com  \n",
       "3  📌መኤሶ ትላንት 2 ሰኣት ከጅቡቲ ተነስተው የነበሩ ተጓዦች ካሳ አልተከፈለ...   NaN  g2@trainee.com  \n",
       "4  የኢሬቻ የሰላም ሽልማት🕊 ሀገር በቀል ባህሎችን በማጎልበት ለሀገራዊ ፋይዳ...   NaN  g2@trainee.com  "
      ]
     },
     "execution_count": 5,
     "metadata": {},
     "output_type": "execute_result"
    }
   ],
   "source": [
    "df2.tail()\n",
    "# Concatenate the DataFrames vertically\n",
    "merged_df = pd.concat([df, df2], ignore_index=True)\n",
    "merged_df.head()\n"
   ]
  },
  {
   "cell_type": "code",
   "execution_count": 6,
   "metadata": {},
   "outputs": [
    {
     "data": {
      "text/html": [
       "<div>\n",
       "<style scoped>\n",
       "    .dataframe tbody tr th:only-of-type {\n",
       "        vertical-align: middle;\n",
       "    }\n",
       "\n",
       "    .dataframe tbody tr th {\n",
       "        vertical-align: top;\n",
       "    }\n",
       "\n",
       "    .dataframe thead th {\n",
       "        text-align: right;\n",
       "    }\n",
       "</style>\n",
       "<table border=\"1\" class=\"dataframe\">\n",
       "  <thead>\n",
       "    <tr style=\"text-align: right;\">\n",
       "      <th></th>\n",
       "      <th>Unnamed: 0</th>\n",
       "      <th>channel_id</th>\n",
       "      <th>message_id</th>\n",
       "      <th>text</th>\n",
       "      <th>label</th>\n",
       "      <th>email</th>\n",
       "    </tr>\n",
       "  </thead>\n",
       "  <tbody>\n",
       "    <tr>\n",
       "      <th>21403</th>\n",
       "      <td>16046</td>\n",
       "      <td>1490216693</td>\n",
       "      <td>26113</td>\n",
       "      <td>አንዲት ኢትዮጵያዊት በዱባይ የ1 ሚሊዮን ዶላር ባለእድል ሆናለች ተብሏል።...</td>\n",
       "      <td>NaN</td>\n",
       "      <td>g2@trainee.com</td>\n",
       "    </tr>\n",
       "    <tr>\n",
       "      <th>21404</th>\n",
       "      <td>16047</td>\n",
       "      <td>1490216693</td>\n",
       "      <td>26114</td>\n",
       "      <td>ADVERTISMENT 🏑 መልካም ገና 🏑 🔜 💥ለ3 ቀናት ብቻ የሚቆይ ታላቅ...</td>\n",
       "      <td>financial service</td>\n",
       "      <td>g2@trainee.com</td>\n",
       "    </tr>\n",
       "    <tr>\n",
       "      <th>21405</th>\n",
       "      <td>16048</td>\n",
       "      <td>1490216693</td>\n",
       "      <td>26115</td>\n",
       "      <td>ድሬዎች🙏 ድሬ እውነትም የፍቅር ከተማ ሳምንቱን ሙሉ በውስጥሽ እንግዳ ሆኘ...</td>\n",
       "      <td>NaN</td>\n",
       "      <td>g2@trainee.com</td>\n",
       "    </tr>\n",
       "    <tr>\n",
       "      <th>21406</th>\n",
       "      <td>16049</td>\n",
       "      <td>1490216693</td>\n",
       "      <td>26116</td>\n",
       "      <td>ADVERTISMENT አስቸኳይ ሽያጭ…በልዩ ቅናሽ እነዚህን ጥራት ያላቸው ...</td>\n",
       "      <td>retail</td>\n",
       "      <td>g2@trainee.com</td>\n",
       "    </tr>\n",
       "    <tr>\n",
       "      <th>21407</th>\n",
       "      <td>16050</td>\n",
       "      <td>1490216693</td>\n",
       "      <td>26117</td>\n",
       "      <td>የአፍሪካ ህብረት ኮሚሽን ሊቀመንበር ሙሳ ፋኪ ማሃማት በኢትዮጵያ እና በሶ...</td>\n",
       "      <td>NaN</td>\n",
       "      <td>g2@trainee.com</td>\n",
       "    </tr>\n",
       "  </tbody>\n",
       "</table>\n",
       "</div>"
      ],
      "text/plain": [
       "       Unnamed: 0  channel_id  message_id  \\\n",
       "21403       16046  1490216693       26113   \n",
       "21404       16047  1490216693       26114   \n",
       "21405       16048  1490216693       26115   \n",
       "21406       16049  1490216693       26116   \n",
       "21407       16050  1490216693       26117   \n",
       "\n",
       "                                                    text              label  \\\n",
       "21403  አንዲት ኢትዮጵያዊት በዱባይ የ1 ሚሊዮን ዶላር ባለእድል ሆናለች ተብሏል።...                NaN   \n",
       "21404  ADVERTISMENT 🏑 መልካም ገና 🏑 🔜 💥ለ3 ቀናት ብቻ የሚቆይ ታላቅ...  financial service   \n",
       "21405  ድሬዎች🙏 ድሬ እውነትም የፍቅር ከተማ ሳምንቱን ሙሉ በውስጥሽ እንግዳ ሆኘ...                NaN   \n",
       "21406  ADVERTISMENT አስቸኳይ ሽያጭ…በልዩ ቅናሽ እነዚህን ጥራት ያላቸው ...             retail   \n",
       "21407  የአፍሪካ ህብረት ኮሚሽን ሊቀመንበር ሙሳ ፋኪ ማሃማት በኢትዮጵያ እና በሶ...                NaN   \n",
       "\n",
       "                email  \n",
       "21403  g2@trainee.com  \n",
       "21404  g2@trainee.com  \n",
       "21405  g2@trainee.com  \n",
       "21406  g2@trainee.com  \n",
       "21407  g2@trainee.com  "
      ]
     },
     "execution_count": 6,
     "metadata": {},
     "output_type": "execute_result"
    }
   ],
   "source": [
    "merged_df.tail()"
   ]
  },
  {
   "cell_type": "code",
   "execution_count": 7,
   "metadata": {},
   "outputs": [
    {
     "name": "stderr",
     "output_type": "stream",
     "text": [
      "/tmp/ipykernel_193711/329496385.py:2: SettingWithCopyWarning: \n",
      "A value is trying to be set on a copy of a slice from a DataFrame.\n",
      "Try using .loc[row_indexer,col_indexer] = value instead\n",
      "\n",
      "See the caveats in the documentation: https://pandas.pydata.org/pandas-docs/stable/user_guide/indexing.html#returning-a-view-versus-a-copy\n",
      "  labeled_df['instruction'] = 'Categorize the input as advertisement or not advertisement'\n"
     ]
    },
    {
     "data": {
      "text/html": [
       "<div>\n",
       "<style scoped>\n",
       "    .dataframe tbody tr th:only-of-type {\n",
       "        vertical-align: middle;\n",
       "    }\n",
       "\n",
       "    .dataframe tbody tr th {\n",
       "        vertical-align: top;\n",
       "    }\n",
       "\n",
       "    .dataframe thead th {\n",
       "        text-align: right;\n",
       "    }\n",
       "</style>\n",
       "<table border=\"1\" class=\"dataframe\">\n",
       "  <thead>\n",
       "    <tr style=\"text-align: right;\">\n",
       "      <th></th>\n",
       "      <th>text</th>\n",
       "      <th>label</th>\n",
       "      <th>instruction</th>\n",
       "    </tr>\n",
       "  </thead>\n",
       "  <tbody>\n",
       "    <tr>\n",
       "      <th>0</th>\n",
       "      <td>ጨና⬆️ በከፋ ዞን ወረዳ 18/01/2011 ኣም ባለቤትነቱ የማን እንደ ሆ...</td>\n",
       "      <td>NaN</td>\n",
       "      <td>Categorize the input as advertisement or not a...</td>\n",
       "    </tr>\n",
       "    <tr>\n",
       "      <th>1</th>\n",
       "      <td>ለፌደራሉ መንግስት‼️ በቤንሻንጉል ጉምዝ ክልል ያለውን ሁኔታ በፍጥነት መ...</td>\n",
       "      <td>NaN</td>\n",
       "      <td>Categorize the input as advertisement or not a...</td>\n",
       "    </tr>\n",
       "    <tr>\n",
       "      <th>2</th>\n",
       "      <td>ኢንጂነር ታከለ ኡማ⬆️ የሀገር ሽማግሌዎች ተግባር አለምን ያስደነቀ፣ ለሁ...</td>\n",
       "      <td>NaN</td>\n",
       "      <td>Categorize the input as advertisement or not a...</td>\n",
       "    </tr>\n",
       "    <tr>\n",
       "      <th>3</th>\n",
       "      <td>📌መኤሶ ትላንት 2 ሰኣት ከጅቡቲ ተነስተው የነበሩ ተጓዦች ካሳ አልተከፈለ...</td>\n",
       "      <td>NaN</td>\n",
       "      <td>Categorize the input as advertisement or not a...</td>\n",
       "    </tr>\n",
       "    <tr>\n",
       "      <th>4</th>\n",
       "      <td>የኢሬቻ የሰላም ሽልማት🕊 ሀገር በቀል ባህሎችን በማጎልበት ለሀገራዊ ፋይዳ...</td>\n",
       "      <td>NaN</td>\n",
       "      <td>Categorize the input as advertisement or not a...</td>\n",
       "    </tr>\n",
       "  </tbody>\n",
       "</table>\n",
       "</div>"
      ],
      "text/plain": [
       "                                                text label  \\\n",
       "0  ጨና⬆️ በከፋ ዞን ወረዳ 18/01/2011 ኣም ባለቤትነቱ የማን እንደ ሆ...   NaN   \n",
       "1  ለፌደራሉ መንግስት‼️ በቤንሻንጉል ጉምዝ ክልል ያለውን ሁኔታ በፍጥነት መ...   NaN   \n",
       "2  ኢንጂነር ታከለ ኡማ⬆️ የሀገር ሽማግሌዎች ተግባር አለምን ያስደነቀ፣ ለሁ...   NaN   \n",
       "3  📌መኤሶ ትላንት 2 ሰኣት ከጅቡቲ ተነስተው የነበሩ ተጓዦች ካሳ አልተከፈለ...   NaN   \n",
       "4  የኢሬቻ የሰላም ሽልማት🕊 ሀገር በቀል ባህሎችን በማጎልበት ለሀገራዊ ፋይዳ...   NaN   \n",
       "\n",
       "                                         instruction  \n",
       "0  Categorize the input as advertisement or not a...  \n",
       "1  Categorize the input as advertisement or not a...  \n",
       "2  Categorize the input as advertisement or not a...  \n",
       "3  Categorize the input as advertisement or not a...  \n",
       "4  Categorize the input as advertisement or not a...  "
      ]
     },
     "execution_count": 7,
     "metadata": {},
     "output_type": "execute_result"
    }
   ],
   "source": [
    "labeled_df = merged_df[['text','label']]\n",
    "labeled_df['instruction'] = 'Categorize the input as advertisement or not advertisement'\n",
    "labeled_df.head()"
   ]
  },
  {
   "cell_type": "code",
   "execution_count": 8,
   "metadata": {},
   "outputs": [],
   "source": [
    "labeled_df=labeled_df[['instruction','text','label']]\n",
    "labeled_df.loc[~labeled_df['label'].isna(),'label']='advertisement'\n",
    "labeled_df.loc[labeled_df['label'].isna(),'label']='not advertisement'"
   ]
  },
  {
   "cell_type": "code",
   "execution_count": 9,
   "metadata": {},
   "outputs": [
    {
     "data": {
      "text/html": [
       "<div>\n",
       "<style scoped>\n",
       "    .dataframe tbody tr th:only-of-type {\n",
       "        vertical-align: middle;\n",
       "    }\n",
       "\n",
       "    .dataframe tbody tr th {\n",
       "        vertical-align: top;\n",
       "    }\n",
       "\n",
       "    .dataframe thead th {\n",
       "        text-align: right;\n",
       "    }\n",
       "</style>\n",
       "<table border=\"1\" class=\"dataframe\">\n",
       "  <thead>\n",
       "    <tr style=\"text-align: right;\">\n",
       "      <th></th>\n",
       "      <th>instruction</th>\n",
       "      <th>input</th>\n",
       "      <th>output</th>\n",
       "    </tr>\n",
       "  </thead>\n",
       "  <tbody>\n",
       "    <tr>\n",
       "      <th>0</th>\n",
       "      <td>Categorize the input as advertisement or not a...</td>\n",
       "      <td>ጨና⬆️ በከፋ ዞን ወረዳ 18/01/2011 ኣም ባለቤትነቱ የማን እንደ ሆ...</td>\n",
       "      <td>not advertisement</td>\n",
       "    </tr>\n",
       "    <tr>\n",
       "      <th>1</th>\n",
       "      <td>Categorize the input as advertisement or not a...</td>\n",
       "      <td>ለፌደራሉ መንግስት‼️ በቤንሻንጉል ጉምዝ ክልል ያለውን ሁኔታ በፍጥነት መ...</td>\n",
       "      <td>not advertisement</td>\n",
       "    </tr>\n",
       "    <tr>\n",
       "      <th>2</th>\n",
       "      <td>Categorize the input as advertisement or not a...</td>\n",
       "      <td>ኢንጂነር ታከለ ኡማ⬆️ የሀገር ሽማግሌዎች ተግባር አለምን ያስደነቀ፣ ለሁ...</td>\n",
       "      <td>not advertisement</td>\n",
       "    </tr>\n",
       "    <tr>\n",
       "      <th>3</th>\n",
       "      <td>Categorize the input as advertisement or not a...</td>\n",
       "      <td>📌መኤሶ ትላንት 2 ሰኣት ከጅቡቲ ተነስተው የነበሩ ተጓዦች ካሳ አልተከፈለ...</td>\n",
       "      <td>not advertisement</td>\n",
       "    </tr>\n",
       "    <tr>\n",
       "      <th>4</th>\n",
       "      <td>Categorize the input as advertisement or not a...</td>\n",
       "      <td>የኢሬቻ የሰላም ሽልማት🕊 ሀገር በቀል ባህሎችን በማጎልበት ለሀገራዊ ፋይዳ...</td>\n",
       "      <td>not advertisement</td>\n",
       "    </tr>\n",
       "  </tbody>\n",
       "</table>\n",
       "</div>"
      ],
      "text/plain": [
       "                                         instruction  \\\n",
       "0  Categorize the input as advertisement or not a...   \n",
       "1  Categorize the input as advertisement or not a...   \n",
       "2  Categorize the input as advertisement or not a...   \n",
       "3  Categorize the input as advertisement or not a...   \n",
       "4  Categorize the input as advertisement or not a...   \n",
       "\n",
       "                                               input             output  \n",
       "0  ጨና⬆️ በከፋ ዞን ወረዳ 18/01/2011 ኣም ባለቤትነቱ የማን እንደ ሆ...  not advertisement  \n",
       "1  ለፌደራሉ መንግስት‼️ በቤንሻንጉል ጉምዝ ክልል ያለውን ሁኔታ በፍጥነት መ...  not advertisement  \n",
       "2  ኢንጂነር ታከለ ኡማ⬆️ የሀገር ሽማግሌዎች ተግባር አለምን ያስደነቀ፣ ለሁ...  not advertisement  \n",
       "3  📌መኤሶ ትላንት 2 ሰኣት ከጅቡቲ ተነስተው የነበሩ ተጓዦች ካሳ አልተከፈለ...  not advertisement  \n",
       "4  የኢሬቻ የሰላም ሽልማት🕊 ሀገር በቀል ባህሎችን በማጎልበት ለሀገራዊ ፋይዳ...  not advertisement  "
      ]
     },
     "execution_count": 9,
     "metadata": {},
     "output_type": "execute_result"
    }
   ],
   "source": [
    "labeled_df\n",
    "labeled_df.columns=['instruction','input','output']\n",
    "labeled_df.head()\n"
   ]
  },
  {
   "cell_type": "code",
   "execution_count": 10,
   "metadata": {},
   "outputs": [
    {
     "data": {
      "text/plain": [
       "(21408, 3)"
      ]
     },
     "execution_count": 10,
     "metadata": {},
     "output_type": "execute_result"
    }
   ],
   "source": [
    "len(labeled_df[labeled_df['output']=='advertisement'])\n",
    "labeled_df.shape"
   ]
  },
  {
   "cell_type": "code",
   "execution_count": 11,
   "metadata": {},
   "outputs": [],
   "source": [
    "df_l = labeled_df[labeled_df['output']=='advertisement']"
   ]
  },
  {
   "cell_type": "code",
   "execution_count": 12,
   "metadata": {},
   "outputs": [
    {
     "data": {
      "text/plain": [
       "808"
      ]
     },
     "execution_count": 12,
     "metadata": {},
     "output_type": "execute_result"
    }
   ],
   "source": [
    "num_rows_to_drop = len(df_l)\n",
    "num_rows_to_drop"
   ]
  },
  {
   "cell_type": "code",
   "execution_count": 13,
   "metadata": {},
   "outputs": [],
   "source": [
    "df_unl = labeled_df[labeled_df['output']=='not advertisement']"
   ]
  },
  {
   "cell_type": "code",
   "execution_count": 14,
   "metadata": {},
   "outputs": [
    {
     "data": {
      "text/plain": [
       "(20600, 3)"
      ]
     },
     "execution_count": 14,
     "metadata": {},
     "output_type": "execute_result"
    }
   ],
   "source": [
    "df_unl.shape"
   ]
  },
  {
   "cell_type": "code",
   "execution_count": 15,
   "metadata": {},
   "outputs": [],
   "source": [
    "df = df_unl.copy()"
   ]
  },
  {
   "cell_type": "code",
   "execution_count": 16,
   "metadata": {},
   "outputs": [],
   "source": [
    "# Specify the number of random rows to drop\n",
    "num_rows_to_drop = 19792\n",
    "\n",
    "# Use the sample method to randomly select rows to drop\n",
    "rows_to_drop = df.sample(n=num_rows_to_drop).index\n",
    "\n",
    "# Use the drop method to remove the selected rows\n",
    "df_dropped = df.drop(index=rows_to_drop)"
   ]
  },
  {
   "cell_type": "code",
   "execution_count": 17,
   "metadata": {},
   "outputs": [
    {
     "data": {
      "text/html": [
       "<div>\n",
       "<style scoped>\n",
       "    .dataframe tbody tr th:only-of-type {\n",
       "        vertical-align: middle;\n",
       "    }\n",
       "\n",
       "    .dataframe tbody tr th {\n",
       "        vertical-align: top;\n",
       "    }\n",
       "\n",
       "    .dataframe thead th {\n",
       "        text-align: right;\n",
       "    }\n",
       "</style>\n",
       "<table border=\"1\" class=\"dataframe\">\n",
       "  <thead>\n",
       "    <tr style=\"text-align: right;\">\n",
       "      <th></th>\n",
       "      <th>instruction</th>\n",
       "      <th>input</th>\n",
       "      <th>output</th>\n",
       "    </tr>\n",
       "  </thead>\n",
       "  <tbody>\n",
       "    <tr>\n",
       "      <th>20</th>\n",
       "      <td>Categorize the input as advertisement or not a...</td>\n",
       "      <td>ቆም ብለን እናስብ‼️ እንደሰው የሚያከብር ማህበረሰብ ካልተፈጠረ የኢትዮጵ...</td>\n",
       "      <td>not advertisement</td>\n",
       "    </tr>\n",
       "    <tr>\n",
       "      <th>33</th>\n",
       "      <td>Categorize the input as advertisement or not a...</td>\n",
       "      <td>ሰመጉ⬇️ ሰሞኑን በአዲስ አበባ ከተማ የተካሄደው እስር በመንግሥት ሙሉ ማ...</td>\n",
       "      <td>not advertisement</td>\n",
       "    </tr>\n",
       "    <tr>\n",
       "      <th>54</th>\n",
       "      <td>Categorize the input as advertisement or not a...</td>\n",
       "      <td>ሰበር ዜና📌 አቶ የህዝቡንና የአባላትን ክብር በመጠበቅ የጉባኤውን ሀሳብ ...</td>\n",
       "      <td>not advertisement</td>\n",
       "    </tr>\n",
       "    <tr>\n",
       "      <th>57</th>\n",
       "      <td>Categorize the input as advertisement or not a...</td>\n",
       "      <td>10ኛው የደኢህዴን ጉባኤ በክብር ከማእከላዊ ኮሚቴ እና ኦዲት እና ቁጥጥር...</td>\n",
       "      <td>not advertisement</td>\n",
       "    </tr>\n",
       "    <tr>\n",
       "      <th>125</th>\n",
       "      <td>Categorize the input as advertisement or not a...</td>\n",
       "      <td>ኣለም በህዋ ሲዋኝ እና በረቂቅ ህዋስ ውስጥ ገብቶ የተሰወረውን የሕይወት ...</td>\n",
       "      <td>not advertisement</td>\n",
       "    </tr>\n",
       "  </tbody>\n",
       "</table>\n",
       "</div>"
      ],
      "text/plain": [
       "                                           instruction  \\\n",
       "20   Categorize the input as advertisement or not a...   \n",
       "33   Categorize the input as advertisement or not a...   \n",
       "54   Categorize the input as advertisement or not a...   \n",
       "57   Categorize the input as advertisement or not a...   \n",
       "125  Categorize the input as advertisement or not a...   \n",
       "\n",
       "                                                 input             output  \n",
       "20   ቆም ብለን እናስብ‼️ እንደሰው የሚያከብር ማህበረሰብ ካልተፈጠረ የኢትዮጵ...  not advertisement  \n",
       "33   ሰመጉ⬇️ ሰሞኑን በአዲስ አበባ ከተማ የተካሄደው እስር በመንግሥት ሙሉ ማ...  not advertisement  \n",
       "54   ሰበር ዜና📌 አቶ የህዝቡንና የአባላትን ክብር በመጠበቅ የጉባኤውን ሀሳብ ...  not advertisement  \n",
       "57   10ኛው የደኢህዴን ጉባኤ በክብር ከማእከላዊ ኮሚቴ እና ኦዲት እና ቁጥጥር...  not advertisement  \n",
       "125  ኣለም በህዋ ሲዋኝ እና በረቂቅ ህዋስ ውስጥ ገብቶ የተሰወረውን የሕይወት ...  not advertisement  "
      ]
     },
     "execution_count": 17,
     "metadata": {},
     "output_type": "execute_result"
    }
   ],
   "source": [
    "df_dropped.head()"
   ]
  },
  {
   "cell_type": "code",
   "execution_count": 18,
   "metadata": {},
   "outputs": [
    {
     "data": {
      "text/plain": [
       "(20600, 3)"
      ]
     },
     "execution_count": 18,
     "metadata": {},
     "output_type": "execute_result"
    }
   ],
   "source": [
    "df.shape"
   ]
  },
  {
   "cell_type": "code",
   "execution_count": 19,
   "metadata": {},
   "outputs": [
    {
     "data": {
      "text/plain": [
       "(808, 3)"
      ]
     },
     "execution_count": 19,
     "metadata": {},
     "output_type": "execute_result"
    }
   ],
   "source": [
    "df_dropped.shape"
   ]
  },
  {
   "cell_type": "code",
   "execution_count": 20,
   "metadata": {},
   "outputs": [],
   "source": [
    "Merged_df = pd.concat([df_l, df_dropped], ignore_index=True)\n"
   ]
  },
  {
   "cell_type": "code",
   "execution_count": 21,
   "metadata": {},
   "outputs": [
    {
     "data": {
      "text/html": [
       "<div>\n",
       "<style scoped>\n",
       "    .dataframe tbody tr th:only-of-type {\n",
       "        vertical-align: middle;\n",
       "    }\n",
       "\n",
       "    .dataframe tbody tr th {\n",
       "        vertical-align: top;\n",
       "    }\n",
       "\n",
       "    .dataframe thead th {\n",
       "        text-align: right;\n",
       "    }\n",
       "</style>\n",
       "<table border=\"1\" class=\"dataframe\">\n",
       "  <thead>\n",
       "    <tr style=\"text-align: right;\">\n",
       "      <th></th>\n",
       "      <th>instruction</th>\n",
       "      <th>input</th>\n",
       "      <th>output</th>\n",
       "    </tr>\n",
       "  </thead>\n",
       "  <tbody>\n",
       "    <tr>\n",
       "      <th>0</th>\n",
       "      <td>Categorize the input as advertisement or not a...</td>\n",
       "      <td>ኢትዮ ላይፍ ሪል ስቴት(Ethio Life Real Estate) ዉድ ደንበኞ...</td>\n",
       "      <td>advertisement</td>\n",
       "    </tr>\n",
       "    <tr>\n",
       "      <th>1</th>\n",
       "      <td>Categorize the input as advertisement or not a...</td>\n",
       "      <td>ማስታወቂያ⬆️ኬራዊ ኢንተርናሸናል ሆቴል 🍎🍏🍅🍄 Kerawi Internati...</td>\n",
       "      <td>advertisement</td>\n",
       "    </tr>\n",
       "    <tr>\n",
       "      <th>2</th>\n",
       "      <td>Categorize the input as advertisement or not a...</td>\n",
       "      <td>🔥🔥 NEW OFFER🔥🔥 🚩 ያለን ብዛት ሳያልቅ እንድትገዙ እንመክራለን ።...</td>\n",
       "      <td>advertisement</td>\n",
       "    </tr>\n",
       "    <tr>\n",
       "      <th>3</th>\n",
       "      <td>Categorize the input as advertisement or not a...</td>\n",
       "      <td>የማስታወቂያ ሰአት! ብራንድ ጫማዎችን እና ልብሶችን በቅናሽ ዋጋ ለማግኘት...</td>\n",
       "      <td>advertisement</td>\n",
       "    </tr>\n",
       "    <tr>\n",
       "      <th>4</th>\n",
       "      <td>Categorize the input as advertisement or not a...</td>\n",
       "      <td>👍 Web design &amp; Software Developers አድራሻ ዳውንታውን...</td>\n",
       "      <td>advertisement</td>\n",
       "    </tr>\n",
       "    <tr>\n",
       "      <th>...</th>\n",
       "      <td>...</td>\n",
       "      <td>...</td>\n",
       "      <td>...</td>\n",
       "    </tr>\n",
       "    <tr>\n",
       "      <th>1611</th>\n",
       "      <td>Categorize the input as advertisement or not a...</td>\n",
       "      <td>ከ2 ሚሊዮን በላይ ተማሪዎች ከትምህርት ውጭ ናቸው በፀጥታ ችግር ከ2 ሚሊ...</td>\n",
       "      <td>not advertisement</td>\n",
       "    </tr>\n",
       "    <tr>\n",
       "      <th>1612</th>\n",
       "      <td>Categorize the input as advertisement or not a...</td>\n",
       "      <td>✔ህውሃት ራሱን እንደ አዲስ እያደራጀ መሆኑ ታውቋል።ከወር በላይ በዝግ እ...</td>\n",
       "      <td>not advertisement</td>\n",
       "    </tr>\n",
       "    <tr>\n",
       "      <th>1613</th>\n",
       "      <td>Categorize the input as advertisement or not a...</td>\n",
       "      <td>መቀሌ‼ የመቀሌ ከተማ አስተዳደር ታህሳስ 21 በከተማዋ የሚካሄድ አንዳችም...</td>\n",
       "      <td>not advertisement</td>\n",
       "    </tr>\n",
       "    <tr>\n",
       "      <th>1614</th>\n",
       "      <td>Categorize the input as advertisement or not a...</td>\n",
       "      <td>አዊ ዞን‼ የአዊ ብሄረሰብ አሥተዳደር ምክር ቤት ባካሄደው 1ኛ አስቸኳይ ...</td>\n",
       "      <td>not advertisement</td>\n",
       "    </tr>\n",
       "    <tr>\n",
       "      <th>1615</th>\n",
       "      <td>Categorize the input as advertisement or not a...</td>\n",
       "      <td>የሱዳን ፈጥኖ ደራሽ ሃይል (አርኤስኤፍ) አዛዡ ጀነራል ሃምዳን ዳጋሎ ጂቡ...</td>\n",
       "      <td>not advertisement</td>\n",
       "    </tr>\n",
       "  </tbody>\n",
       "</table>\n",
       "<p>1616 rows × 3 columns</p>\n",
       "</div>"
      ],
      "text/plain": [
       "                                            instruction  \\\n",
       "0     Categorize the input as advertisement or not a...   \n",
       "1     Categorize the input as advertisement or not a...   \n",
       "2     Categorize the input as advertisement or not a...   \n",
       "3     Categorize the input as advertisement or not a...   \n",
       "4     Categorize the input as advertisement or not a...   \n",
       "...                                                 ...   \n",
       "1611  Categorize the input as advertisement or not a...   \n",
       "1612  Categorize the input as advertisement or not a...   \n",
       "1613  Categorize the input as advertisement or not a...   \n",
       "1614  Categorize the input as advertisement or not a...   \n",
       "1615  Categorize the input as advertisement or not a...   \n",
       "\n",
       "                                                  input             output  \n",
       "0     ኢትዮ ላይፍ ሪል ስቴት(Ethio Life Real Estate) ዉድ ደንበኞ...      advertisement  \n",
       "1     ማስታወቂያ⬆️ኬራዊ ኢንተርናሸናል ሆቴል 🍎🍏🍅🍄 Kerawi Internati...      advertisement  \n",
       "2     🔥🔥 NEW OFFER🔥🔥 🚩 ያለን ብዛት ሳያልቅ እንድትገዙ እንመክራለን ።...      advertisement  \n",
       "3     የማስታወቂያ ሰአት! ብራንድ ጫማዎችን እና ልብሶችን በቅናሽ ዋጋ ለማግኘት...      advertisement  \n",
       "4     👍 Web design & Software Developers አድራሻ ዳውንታውን...      advertisement  \n",
       "...                                                 ...                ...  \n",
       "1611  ከ2 ሚሊዮን በላይ ተማሪዎች ከትምህርት ውጭ ናቸው በፀጥታ ችግር ከ2 ሚሊ...  not advertisement  \n",
       "1612  ✔ህውሃት ራሱን እንደ አዲስ እያደራጀ መሆኑ ታውቋል።ከወር በላይ በዝግ እ...  not advertisement  \n",
       "1613  መቀሌ‼ የመቀሌ ከተማ አስተዳደር ታህሳስ 21 በከተማዋ የሚካሄድ አንዳችም...  not advertisement  \n",
       "1614  አዊ ዞን‼ የአዊ ብሄረሰብ አሥተዳደር ምክር ቤት ባካሄደው 1ኛ አስቸኳይ ...  not advertisement  \n",
       "1615  የሱዳን ፈጥኖ ደራሽ ሃይል (አርኤስኤፍ) አዛዡ ጀነራል ሃምዳን ዳጋሎ ጂቡ...  not advertisement  \n",
       "\n",
       "[1616 rows x 3 columns]"
      ]
     },
     "execution_count": 21,
     "metadata": {},
     "output_type": "execute_result"
    }
   ],
   "source": [
    "Merged_df"
   ]
  },
  {
   "cell_type": "code",
   "execution_count": 22,
   "metadata": {},
   "outputs": [],
   "source": [
    "Merged_df.to_json('/data/fine_tun_data1.json')\n",
    "Merged_df['input'].dropna(inplace=True)"
   ]
  },
  {
   "cell_type": "code",
   "execution_count": 23,
   "metadata": {},
   "outputs": [],
   "source": [
    "list22 = []\n",
    "for i, item in Merged_df.iterrows():\n",
    "    if isinstance(item['input'],float):\n",
    "        continue\n",
    "    list22.append({'instruction':item['instruction'],'input':item['input'],'output':item['output']})"
   ]
  },
  {
   "cell_type": "code",
   "execution_count": 24,
   "metadata": {},
   "outputs": [
    {
     "data": {
      "text/plain": [
       "1612"
      ]
     },
     "execution_count": 24,
     "metadata": {},
     "output_type": "execute_result"
    }
   ],
   "source": [
    "len(list22)"
   ]
  },
  {
   "cell_type": "code",
   "execution_count": 25,
   "metadata": {},
   "outputs": [],
   "source": [
    "\n",
    "file_path = '/data/fine_tun_data2.json'\n",
    "\n",
    "# Write the list of dictionaries to the JSON file\n",
    "with open(file_path, 'w') as json_file:\n",
    "    json.dump(list22, json_file, indent=2)"
   ]
  },
  {
   "cell_type": "code",
   "execution_count": 26,
   "metadata": {},
   "outputs": [
    {
     "data": {
      "text/html": [
       "<div>\n",
       "<style scoped>\n",
       "    .dataframe tbody tr th:only-of-type {\n",
       "        vertical-align: middle;\n",
       "    }\n",
       "\n",
       "    .dataframe tbody tr th {\n",
       "        vertical-align: top;\n",
       "    }\n",
       "\n",
       "    .dataframe thead th {\n",
       "        text-align: right;\n",
       "    }\n",
       "</style>\n",
       "<table border=\"1\" class=\"dataframe\">\n",
       "  <thead>\n",
       "    <tr style=\"text-align: right;\">\n",
       "      <th></th>\n",
       "      <th>instruction</th>\n",
       "      <th>input</th>\n",
       "      <th>output</th>\n",
       "    </tr>\n",
       "  </thead>\n",
       "  <tbody>\n",
       "    <tr>\n",
       "      <th>0</th>\n",
       "      <td>Categorize the input as advertisement or not a...</td>\n",
       "      <td>ኢትዮ ላይፍ ሪል ስቴት(Ethio Life Real Estate) ዉድ ደንበኞ...</td>\n",
       "      <td>advertisement</td>\n",
       "    </tr>\n",
       "    <tr>\n",
       "      <th>1</th>\n",
       "      <td>Categorize the input as advertisement or not a...</td>\n",
       "      <td>ማስታወቂያ⬆️ኬራዊ ኢንተርናሸናል ሆቴል 🍎🍏🍅🍄 Kerawi Internati...</td>\n",
       "      <td>advertisement</td>\n",
       "    </tr>\n",
       "    <tr>\n",
       "      <th>2</th>\n",
       "      <td>Categorize the input as advertisement or not a...</td>\n",
       "      <td>🔥🔥 NEW OFFER🔥🔥 🚩 ያለን ብዛት ሳያልቅ እንድትገዙ እንመክራለን ።...</td>\n",
       "      <td>advertisement</td>\n",
       "    </tr>\n",
       "    <tr>\n",
       "      <th>3</th>\n",
       "      <td>Categorize the input as advertisement or not a...</td>\n",
       "      <td>የማስታወቂያ ሰአት! ብራንድ ጫማዎችን እና ልብሶችን በቅናሽ ዋጋ ለማግኘት...</td>\n",
       "      <td>advertisement</td>\n",
       "    </tr>\n",
       "    <tr>\n",
       "      <th>4</th>\n",
       "      <td>Categorize the input as advertisement or not a...</td>\n",
       "      <td>👍 Web design &amp; Software Developers አድራሻ ዳውንታውን...</td>\n",
       "      <td>advertisement</td>\n",
       "    </tr>\n",
       "    <tr>\n",
       "      <th>...</th>\n",
       "      <td>...</td>\n",
       "      <td>...</td>\n",
       "      <td>...</td>\n",
       "    </tr>\n",
       "    <tr>\n",
       "      <th>1607</th>\n",
       "      <td>Categorize the input as advertisement or not a...</td>\n",
       "      <td>ከ2 ሚሊዮን በላይ ተማሪዎች ከትምህርት ውጭ ናቸው በፀጥታ ችግር ከ2 ሚሊ...</td>\n",
       "      <td>not advertisement</td>\n",
       "    </tr>\n",
       "    <tr>\n",
       "      <th>1608</th>\n",
       "      <td>Categorize the input as advertisement or not a...</td>\n",
       "      <td>✔ህውሃት ራሱን እንደ አዲስ እያደራጀ መሆኑ ታውቋል።ከወር በላይ በዝግ እ...</td>\n",
       "      <td>not advertisement</td>\n",
       "    </tr>\n",
       "    <tr>\n",
       "      <th>1609</th>\n",
       "      <td>Categorize the input as advertisement or not a...</td>\n",
       "      <td>መቀሌ‼ የመቀሌ ከተማ አስተዳደር ታህሳስ 21 በከተማዋ የሚካሄድ አንዳችም...</td>\n",
       "      <td>not advertisement</td>\n",
       "    </tr>\n",
       "    <tr>\n",
       "      <th>1610</th>\n",
       "      <td>Categorize the input as advertisement or not a...</td>\n",
       "      <td>አዊ ዞን‼ የአዊ ብሄረሰብ አሥተዳደር ምክር ቤት ባካሄደው 1ኛ አስቸኳይ ...</td>\n",
       "      <td>not advertisement</td>\n",
       "    </tr>\n",
       "    <tr>\n",
       "      <th>1611</th>\n",
       "      <td>Categorize the input as advertisement or not a...</td>\n",
       "      <td>የሱዳን ፈጥኖ ደራሽ ሃይል (አርኤስኤፍ) አዛዡ ጀነራል ሃምዳን ዳጋሎ ጂቡ...</td>\n",
       "      <td>not advertisement</td>\n",
       "    </tr>\n",
       "  </tbody>\n",
       "</table>\n",
       "<p>1612 rows × 3 columns</p>\n",
       "</div>"
      ],
      "text/plain": [
       "                                            instruction  \\\n",
       "0     Categorize the input as advertisement or not a...   \n",
       "1     Categorize the input as advertisement or not a...   \n",
       "2     Categorize the input as advertisement or not a...   \n",
       "3     Categorize the input as advertisement or not a...   \n",
       "4     Categorize the input as advertisement or not a...   \n",
       "...                                                 ...   \n",
       "1607  Categorize the input as advertisement or not a...   \n",
       "1608  Categorize the input as advertisement or not a...   \n",
       "1609  Categorize the input as advertisement or not a...   \n",
       "1610  Categorize the input as advertisement or not a...   \n",
       "1611  Categorize the input as advertisement or not a...   \n",
       "\n",
       "                                                  input             output  \n",
       "0     ኢትዮ ላይፍ ሪል ስቴት(Ethio Life Real Estate) ዉድ ደንበኞ...      advertisement  \n",
       "1     ማስታወቂያ⬆️ኬራዊ ኢንተርናሸናል ሆቴል 🍎🍏🍅🍄 Kerawi Internati...      advertisement  \n",
       "2     🔥🔥 NEW OFFER🔥🔥 🚩 ያለን ብዛት ሳያልቅ እንድትገዙ እንመክራለን ።...      advertisement  \n",
       "3     የማስታወቂያ ሰአት! ብራንድ ጫማዎችን እና ልብሶችን በቅናሽ ዋጋ ለማግኘት...      advertisement  \n",
       "4     👍 Web design & Software Developers አድራሻ ዳውንታውን...      advertisement  \n",
       "...                                                 ...                ...  \n",
       "1607  ከ2 ሚሊዮን በላይ ተማሪዎች ከትምህርት ውጭ ናቸው በፀጥታ ችግር ከ2 ሚሊ...  not advertisement  \n",
       "1608  ✔ህውሃት ራሱን እንደ አዲስ እያደራጀ መሆኑ ታውቋል።ከወር በላይ በዝግ እ...  not advertisement  \n",
       "1609  መቀሌ‼ የመቀሌ ከተማ አስተዳደር ታህሳስ 21 በከተማዋ የሚካሄድ አንዳችም...  not advertisement  \n",
       "1610  አዊ ዞን‼ የአዊ ብሄረሰብ አሥተዳደር ምክር ቤት ባካሄደው 1ኛ አስቸኳይ ...  not advertisement  \n",
       "1611  የሱዳን ፈጥኖ ደራሽ ሃይል (አርኤስኤፍ) አዛዡ ጀነራል ሃምዳን ዳጋሎ ጂቡ...  not advertisement  \n",
       "\n",
       "[1612 rows x 3 columns]"
      ]
     },
     "execution_count": 26,
     "metadata": {},
     "output_type": "execute_result"
    }
   ],
   "source": [
    "dataset_name = \"/data/fine_tun_data2.json\"\n",
    "pd.read_json(dataset_name)"
   ]
  },
  {
   "cell_type": "code",
   "execution_count": 27,
   "metadata": {},
   "outputs": [
    {
     "data": {
      "text/plain": [
       "'ጨና⬆️ በከፋ ዞን ወረዳ 18/01/2011 ኣም ባለቤትነቱ የማን እንደ ሆነ እና ለምን አላማ እንደ ሆነ ያልታወቀ ግምቱ ከ 28,000,000 በር በላይ 5 ኩምታል የኢትዮጵያ ብር በኮድ 3 አ አ 47875 በሆነች ፕኪአፕ ቶዮታ መኪና ወደ ቤንች ማጅ ዞን አቅጣጫ እየሄደች ሳለ በዋቻ ከተማ ወጣቶች ከፍተኛ እና በስልታዊ ርብረብ በቁጥጥር ስር ልዉል ችለዋል ቀሪዉን ጉዳይ የምመለከተው አካል በማጣራት ላይ ይገኛል። ገንዘቡም ለጊዜው በከተማው በምገኝ CBE ባንክ በፌደራል ፖሊስ እና በወረዳው ፖሊስ እየተጠበቀ ይገኛል። ©ፎቶ Amanuel(TIKVAH ETH) @tsegabwolde @tikvahethiopia'"
      ]
     },
     "execution_count": 27,
     "metadata": {},
     "output_type": "execute_result"
    }
   ],
   "source": [
    "df.loc[0]['input']"
   ]
  }
 ],
 "metadata": {
  "kernelspec": {
   "display_name": "venv",
   "language": "python",
   "name": "python3"
  },
  "language_info": {
   "codemirror_mode": {
    "name": "ipython",
    "version": 3
   },
   "file_extension": ".py",
   "mimetype": "text/x-python",
   "name": "python",
   "nbconvert_exporter": "python",
   "pygments_lexer": "ipython3",
   "version": "3.11.5"
  }
 },
 "nbformat": 4,
 "nbformat_minor": 2
}
