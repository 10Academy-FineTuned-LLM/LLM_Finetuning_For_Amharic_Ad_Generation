{
 "cells": [
  {
   "cell_type": "code",
   "execution_count": null,
   "id": "42f4ff1b-732e-4071-b185-6027e0a07efd",
   "metadata": {},
   "outputs": [],
   "source": [
    "!pip install -q bitsandbytes datasets accelerate loralib\n",
    "!pip install -q git+https://github.com/huggingface/transformers.git@main git+https://github.com/huggingface/peft.git"
   ]
  },
  {
   "cell_type": "code",
   "execution_count": 1,
   "id": "b51e88b2-9480-4d28-9eb0-801789985f37",
   "metadata": {},
   "outputs": [
    {
     "name": "stderr",
     "output_type": "stream",
     "text": [
      "/home/eyaya/.local/lib/python3.10/site-packages/bitsandbytes/cextension.py:34: UserWarning: The installed version of bitsandbytes was compiled without GPU support. 8-bit optimizers, 8-bit multiplication, and GPU quantization are unavailable.\n",
      "  warn(\"The installed version of bitsandbytes was compiled without GPU support. \"\n"
     ]
    },
    {
     "name": "stdout",
     "output_type": "stream",
     "text": [
      "/home/eyaya/.local/lib/python3.10/site-packages/bitsandbytes/libbitsandbytes_cpu.so: undefined symbol: cadam32bit_grad_fp32\n"
     ]
    }
   ],
   "source": [
    "import torch\n",
    "import torch.nn as nn\n",
    "import bitsandbytes as bnb\n",
    "from transformers import AutoTokenizer, AutoConfig, AutoModelForCausalLM"
   ]
  },
  {
   "cell_type": "code",
   "execution_count": 2,
   "id": "a848b339-feaa-4332-bab0-0554a89cd126",
   "metadata": {},
   "outputs": [],
   "source": [
    "import pandas as pd"
   ]
  },
  {
   "cell_type": "code",
   "execution_count": 3,
   "id": "d61a18ab-75c7-4373-bbd5-ffcf2e439c0d",
   "metadata": {},
   "outputs": [
    {
     "data": {
      "application/vnd.jupyter.widget-view+json": {
       "model_id": "149ac8b3413d43c59be4858568e5406d",
       "version_major": 2,
       "version_minor": 0
      },
      "text/plain": [
       "VBox(children=(HTML(value='<center> <img\\nsrc=https://huggingface.co/front/assets/huggingface_logo-noborder.sv…"
      ]
     },
     "metadata": {},
     "output_type": "display_data"
    }
   ],
   "source": [
    "from huggingface_hub import notebook_login\n",
    "\n",
    "notebook_login()"
   ]
  },
  {
   "cell_type": "code",
   "execution_count": 4,
   "id": "7c288fb5-6345-4c01-8b34-04951124d8a6",
   "metadata": {},
   "outputs": [],
   "source": [
    "# Model from Hugging Face hub\n",
    "base_model = \"meta-llama/Llama-2-7b-chat-hf\"\n",
    "#base_model = \"Davlan/bert-base-multilingual-cased-finetuned-amharic\"\n",
    "# Fine-tuned model\n",
    "toknizer='iocuydi/llama-2-amharic-3784m'"
   ]
  },
  {
   "cell_type": "code",
   "execution_count": null,
   "id": "ad0f9b0e-5090-47a4-b570-7432a3a2db7f",
   "metadata": {},
   "outputs": [],
   "source": [
    "\n",
    "model = AutoModelForCausalLM.from_pretrained(\n",
    "    base_model,\n",
    "    load_in_8bit=True,\n",
    "    device_map='auto',\n",
    ")"
   ]
  },
  {
   "cell_type": "code",
   "execution_count": 16,
   "id": "51a646a5-8eed-4829-a126-7a47cc3326d9",
   "metadata": {},
   "outputs": [],
   "source": [
    "#tokenizer = AutoTokenizer.from_pretrained(toknizer)\n",
    "tokenizer = AutoTokenizer.from_pretrained(\"iocuydi/llama-2-amharic-3784m\")"
   ]
  },
  {
   "cell_type": "code",
   "execution_count": 85,
   "id": "0100f6bd-cb8f-4d18-b269-ca001096a384",
   "metadata": {},
   "outputs": [],
   "source": [
    "file_t = 'tikvah-(15000-30000).csv'\n",
    "file_w = 'wasu_mohammed_labeled.csv'\n",
    "\n",
    "df = pd.read_csv(file_t, index_col=False)\n",
    "df2 = pd.read_csv(file_w, index_col=False)"
   ]
  },
  {
   "cell_type": "code",
   "execution_count": 86,
   "id": "900027fa-35f5-477d-a094-1c617d086dab",
   "metadata": {},
   "outputs": [
    {
     "data": {
      "text/html": [
       "<div>\n",
       "<style scoped>\n",
       "    .dataframe tbody tr th:only-of-type {\n",
       "        vertical-align: middle;\n",
       "    }\n",
       "\n",
       "    .dataframe tbody tr th {\n",
       "        vertical-align: top;\n",
       "    }\n",
       "\n",
       "    .dataframe thead th {\n",
       "        text-align: right;\n",
       "    }\n",
       "</style>\n",
       "<table border=\"1\" class=\"dataframe\">\n",
       "  <thead>\n",
       "    <tr style=\"text-align: right;\">\n",
       "      <th></th>\n",
       "      <th>Unnamed: 0</th>\n",
       "      <th>channel_id</th>\n",
       "      <th>message_id</th>\n",
       "      <th>text</th>\n",
       "      <th>label</th>\n",
       "      <th>email</th>\n",
       "    </tr>\n",
       "  </thead>\n",
       "  <tbody>\n",
       "    <tr>\n",
       "      <th>0</th>\n",
       "      <td>0</td>\n",
       "      <td>1130580549</td>\n",
       "      <td>15001</td>\n",
       "      <td>ጨና⬆️ በከፋ ዞን ወረዳ 18/01/2011 ኣም ባለቤትነቱ የማን እንደ ሆ...</td>\n",
       "      <td>NaN</td>\n",
       "      <td>g2@trainee.com</td>\n",
       "    </tr>\n",
       "    <tr>\n",
       "      <th>1</th>\n",
       "      <td>1</td>\n",
       "      <td>1130580549</td>\n",
       "      <td>15002</td>\n",
       "      <td>ለፌደራሉ መንግስት‼️ በቤንሻንጉል ጉምዝ ክልል ያለውን ሁኔታ በፍጥነት መ...</td>\n",
       "      <td>NaN</td>\n",
       "      <td>g2@trainee.com</td>\n",
       "    </tr>\n",
       "    <tr>\n",
       "      <th>2</th>\n",
       "      <td>2</td>\n",
       "      <td>1130580549</td>\n",
       "      <td>15006</td>\n",
       "      <td>ኢንጂነር ታከለ ኡማ⬆️ የሀገር ሽማግሌዎች ተግባር አለምን ያስደነቀ፣ ለሁ...</td>\n",
       "      <td>NaN</td>\n",
       "      <td>g2@trainee.com</td>\n",
       "    </tr>\n",
       "    <tr>\n",
       "      <th>3</th>\n",
       "      <td>3</td>\n",
       "      <td>1130580549</td>\n",
       "      <td>15007</td>\n",
       "      <td>📌መኤሶ ትላንት 2 ሰኣት ከጅቡቲ ተነስተው የነበሩ ተጓዦች ካሳ አልተከፈለ...</td>\n",
       "      <td>NaN</td>\n",
       "      <td>g2@trainee.com</td>\n",
       "    </tr>\n",
       "    <tr>\n",
       "      <th>4</th>\n",
       "      <td>4</td>\n",
       "      <td>1130580549</td>\n",
       "      <td>15008</td>\n",
       "      <td>የኢሬቻ የሰላም ሽልማት🕊 ሀገር በቀል ባህሎችን በማጎልበት ለሀገራዊ ፋይዳ...</td>\n",
       "      <td>NaN</td>\n",
       "      <td>g2@trainee.com</td>\n",
       "    </tr>\n",
       "  </tbody>\n",
       "</table>\n",
       "</div>"
      ],
      "text/plain": [
       "   Unnamed: 0  channel_id  message_id  \\\n",
       "0           0  1130580549       15001   \n",
       "1           1  1130580549       15002   \n",
       "2           2  1130580549       15006   \n",
       "3           3  1130580549       15007   \n",
       "4           4  1130580549       15008   \n",
       "\n",
       "                                                text label           email  \n",
       "0  ጨና⬆️ በከፋ ዞን ወረዳ 18/01/2011 ኣም ባለቤትነቱ የማን እንደ ሆ...   NaN  g2@trainee.com  \n",
       "1  ለፌደራሉ መንግስት‼️ በቤንሻንጉል ጉምዝ ክልል ያለውን ሁኔታ በፍጥነት መ...   NaN  g2@trainee.com  \n",
       "2  ኢንጂነር ታከለ ኡማ⬆️ የሀገር ሽማግሌዎች ተግባር አለምን ያስደነቀ፣ ለሁ...   NaN  g2@trainee.com  \n",
       "3  📌መኤሶ ትላንት 2 ሰኣት ከጅቡቲ ተነስተው የነበሩ ተጓዦች ካሳ አልተከፈለ...   NaN  g2@trainee.com  \n",
       "4  የኢሬቻ የሰላም ሽልማት🕊 ሀገር በቀል ባህሎችን በማጎልበት ለሀገራዊ ፋይዳ...   NaN  g2@trainee.com  "
      ]
     },
     "execution_count": 86,
     "metadata": {},
     "output_type": "execute_result"
    }
   ],
   "source": [
    "df.head()"
   ]
  },
  {
   "cell_type": "code",
   "execution_count": 92,
   "id": "9b11a164-84ff-46c9-8c69-ac67f1b460f2",
   "metadata": {},
   "outputs": [],
   "source": [
    "text = df2['text']"
   ]
  },
  {
   "cell_type": "code",
   "execution_count": 88,
   "id": "bef64257-2a3d-4681-b32f-a13402103b09",
   "metadata": {},
   "outputs": [],
   "source": [
    "import numpy as np"
   ]
  },
  {
   "cell_type": "code",
   "execution_count": 89,
   "id": "9b23be1f-33a7-40ed-a813-8165fd4c2b9b",
   "metadata": {},
   "outputs": [
    {
     "data": {
      "text/plain": [
       "float"
      ]
     },
     "execution_count": 89,
     "metadata": {},
     "output_type": "execute_result"
    }
   ],
   "source": [
    "type(np.nan)"
   ]
  },
  {
   "cell_type": "code",
   "execution_count": 93,
   "id": "565e1a15-1287-4db0-8bed-a382d5c89a72",
   "metadata": {},
   "outputs": [
    {
     "name": "stdout",
     "output_type": "stream",
     "text": [
      "nan 906\n",
      "nan 944\n",
      "nan 1655\n",
      "nan 1708\n",
      "nan 1751\n",
      "nan 1786\n",
      "nan 2061\n",
      "nan 2550\n",
      "nan 3379\n",
      "nan 4207\n",
      "nan 6380\n",
      "nan 6423\n",
      "nan 6494\n",
      "nan 6510\n",
      "nan 6522\n",
      "nan 6594\n",
      "nan 6644\n",
      "nan 6664\n",
      "nan 6851\n",
      "nan 6885\n",
      "nan 6948\n",
      "nan 7071\n",
      "nan 7079\n",
      "nan 7417\n",
      "nan 8312\n",
      "nan 8326\n",
      "nan 8341\n",
      "nan 8357\n",
      "nan 8365\n",
      "nan 8421\n",
      "nan 9107\n",
      "nan 9250\n",
      "nan 9305\n",
      "nan 9505\n",
      "nan 9802\n",
      "nan 9839\n",
      "nan 9884\n",
      "nan 9907\n",
      "nan 9924\n",
      "nan 10064\n",
      "nan 10230\n",
      "nan 10303\n",
      "nan 10473\n",
      "nan 10476\n",
      "nan 10490\n",
      "nan 10530\n",
      "nan 10539\n",
      "nan 10637\n",
      "nan 10738\n",
      "nan 10759\n",
      "nan 10780\n",
      "nan 10783\n",
      "nan 10817\n",
      "nan 10859\n",
      "nan 10893\n",
      "nan 10903\n",
      "nan 10916\n",
      "nan 10978\n",
      "nan 11002\n",
      "nan 11013\n",
      "nan 11029\n",
      "nan 11068\n",
      "nan 11084\n",
      "nan 11091\n",
      "nan 11100\n",
      "nan 11129\n",
      "nan 11130\n",
      "nan 11196\n",
      "nan 11224\n",
      "nan 11251\n",
      "nan 11268\n",
      "nan 11437\n",
      "nan 11474\n",
      "nan 11488\n",
      "nan 11506\n",
      "nan 11537\n",
      "nan 11682\n",
      "nan 11693\n",
      "nan 11713\n",
      "nan 11997\n",
      "nan 12012\n",
      "nan 12099\n",
      "nan 12296\n",
      "nan 12329\n",
      "nan 12383\n",
      "nan 12429\n",
      "nan 12457\n",
      "nan 12551\n",
      "nan 12612\n",
      "nan 12670\n",
      "nan 12685\n",
      "nan 12728\n",
      "nan 12937\n",
      "nan 13155\n",
      "nan 13326\n",
      "nan 13511\n",
      "nan 13553\n",
      "nan 13802\n",
      "nan 13809\n",
      "nan 13843\n",
      "nan 13882\n",
      "nan 13992\n",
      "nan 14133\n",
      "nan 14225\n",
      "nan 14283\n",
      "nan 14405\n",
      "nan 14490\n",
      "nan 14508\n",
      "nan 14515\n",
      "nan 14552\n",
      "nan 14565\n",
      "nan 14629\n",
      "nan 14652\n",
      "nan 14684\n",
      "nan 14692\n",
      "nan 14761\n",
      "nan 14799\n",
      "nan 14832\n",
      "nan 14855\n",
      "nan 14864\n",
      "nan 14868\n",
      "nan 14879\n",
      "nan 14890\n",
      "nan 14906\n",
      "nan 14917\n",
      "nan 14935\n",
      "nan 14964\n",
      "nan 14973\n",
      "nan 14998\n",
      "nan 15008\n",
      "nan 15030\n",
      "nan 15058\n",
      "nan 15090\n",
      "nan 15109\n",
      "nan 15118\n",
      "nan 15140\n",
      "nan 15146\n",
      "nan 15191\n",
      "nan 15267\n",
      "nan 15285\n",
      "nan 15289\n",
      "nan 15321\n",
      "nan 15334\n",
      "nan 15346\n",
      "nan 15369\n",
      "nan 15381\n",
      "nan 15386\n",
      "nan 15391\n",
      "nan 15433\n",
      "nan 15453\n",
      "nan 15464\n",
      "nan 15469\n",
      "nan 15486\n",
      "nan 15498\n",
      "nan 15512\n",
      "nan 15537\n",
      "nan 15794\n",
      "nan 15828\n",
      "nan 15844\n",
      "nan 15953\n"
     ]
    }
   ],
   "source": [
    "count = 0\n",
    "for i in range(len(text)):\n",
    "    \n",
    "    if text[i] is np.nan:\n",
    "        print( text[i],i)\n",
    "        continue\n",
    "    \n",
    "    t = text[i]\n",
    "    t = t.split(' ')\n",
    "    count +=len(t)"
   ]
  },
  {
   "cell_type": "code",
   "execution_count": 82,
   "id": "d0662ff2-a1fe-40f3-853e-c6f1558139b7",
   "metadata": {},
   "outputs": [
    {
     "data": {
      "text/plain": [
       "nan"
      ]
     },
     "execution_count": 82,
     "metadata": {},
     "output_type": "execute_result"
    }
   ],
   "source": [
    "text[2061]"
   ]
  },
  {
   "cell_type": "code",
   "execution_count": 91,
   "id": "3045c554-c00c-47c0-b24c-6531d9700084",
   "metadata": {},
   "outputs": [
    {
     "data": {
      "text/plain": [
       "416086"
      ]
     },
     "execution_count": 91,
     "metadata": {},
     "output_type": "execute_result"
    }
   ],
   "source": [
    "count"
   ]
  },
  {
   "cell_type": "code",
   "execution_count": 94,
   "id": "302e4470-7866-444a-897a-fcb12593755e",
   "metadata": {},
   "outputs": [
    {
     "data": {
      "text/plain": [
       "1507536"
      ]
     },
     "execution_count": 94,
     "metadata": {},
     "output_type": "execute_result"
    }
   ],
   "source": [
    "count"
   ]
  },
  {
   "cell_type": "code",
   "execution_count": 96,
   "id": "b9145510-0f21-47ca-8a57-3ea49c174cbe",
   "metadata": {},
   "outputs": [],
   "source": [
    "# Wasu = 1507536\n",
    "# Tikva = 416086\n",
    "\n",
    "# Total  1923622"
   ]
  },
  {
   "cell_type": "code",
   "execution_count": 50,
   "id": "affd0060-76a2-4401-af18-f127735c2b21",
   "metadata": {},
   "outputs": [],
   "source": [
    "# Tokenize the input\n",
    "input_ids = tokenizer.encode(text[0], return_tensors=\"pt\")\n"
   ]
  },
  {
   "cell_type": "code",
   "execution_count": 51,
   "id": "4eb95e8f-ac0c-4e7e-b29d-2956094cea91",
   "metadata": {},
   "outputs": [
    {
     "data": {
      "text/plain": [
       "tensor([[    1, 29871,   228,   143,   171,   228,   141,   150,   229,   175,\n",
       "           137, 30598, 29871,   228,   140,   163,   228,   141,   171,   228,\n",
       "           144,   142, 29871,   228,   142,   161,   228,   141,   152, 29871,\n",
       "           228,   142,   139,   228,   139,   171,   228,   142,   182, 29871,\n",
       "         29896, 29947, 29914, 29900, 29896, 29914, 29906, 29900, 29896, 29896,\n",
       "         29871,   228,   141,   166,   228,   139,   160, 29871,   228,   140,\n",
       "           166,   228,   139,   139,   228,   140,   167,   228,   140,   184,\n",
       "           228,   141,   147,   228,   140,   180, 29871,   228,   142,   171,\n",
       "           228,   139,   158,   228,   141,   152, 29871,   228,   141,   168,\n",
       "           228,   141,   152,   228,   142,   179, 29871,   228,   139,   137,\n",
       "           228,   141,   147, 29871,   228,   141,   168,   228,   141,   150,\n",
       "         29871,   228,   139,   139,   228,   139,   160,   228,   141,   152,\n",
       "         29871,   228,   141,   163,   228,   139,   142,   228,   139,   158,\n",
       "         29871,   228,   141,   168,   228,   141,   152,   228,   142,   179,\n",
       "         29871,   228,   139,   137,   228,   141,   147, 29871,   228,   142,\n",
       "           174,   228,   139,   144,   228,   140,   182,   228,   142,   139,\n",
       "           228,   140,   131, 29871,   228,   143,   144,   228,   139,   160,\n",
       "           228,   140,   180, 29871,   228,   141,   171, 29871, 29906, 29947,\n",
       "         29892, 29900, 29900, 29900, 29892, 29900, 29900, 29900, 29871,   228,\n",
       "           140,   163,   228,   139,   176, 29871,   228,   140,   163,   228,\n",
       "           139,   142,   228,   142,   176, 29871, 29945, 29871,   228,   141,\n",
       "           172,   228,   139,   160,   228,   140,   182,   228,   139,   144,\n",
       "         29871,   228,   142,   171,   228,   141,   165,   228,   140,   184,\n",
       "           228,   142,   177,   228,   143,   184,   228,   142,   174, 29871,\n",
       "           228,   140,   168,   228,   139,   176, 29871,   228,   140,   163,\n",
       "           228,   141,   177,   228,   142,   184, 29871, 29941, 29871,   228,\n",
       "           141,   163, 29871,   228,   141,   163, 29871, 29946, 29955, 29947,\n",
       "         29955, 29945, 29871,   228,   140,   163,   228,   139,   137,   228,\n",
       "           141,   147,   228,   140,   192, 29871,   228,   144,   152,   228,\n",
       "           141,   173,   228,   141,   163,   228,   144,   152, 29871,   228,\n",
       "           140,   185,   228,   142,   177,   228,   140,   182, 29871,   228,\n",
       "           139,   155,   228,   141,   173,   228,   141,   150, 29871,   228,\n",
       "           142,   139,   228,   142,   179, 29871,   228,   140,   167,   228,\n",
       "           141,   152,   228,   140,   192, 29871,   228,   139,   158,   228,\n",
       "           143,   136, 29871,   228,   142,   161,   228,   141,   152, 29871,\n",
       "           228,   141,   163,   228,   140,   136,   228,   143,   166,   228,\n",
       "           143,   174, 29871,   228,   141,   168,   228,   142,   171,   228,\n",
       "           139,   135,   228,   142,   179,   228,   140,   192, 29871,   228,\n",
       "           139,   182,   228,   139,   139, 29871,   228,   140,   163,   228,\n",
       "           142,   142,   228,   140,   190, 29871,   228,   141,   171,   228,\n",
       "           140,   179,   228,   139,   158, 29871,   228,   142,   139,   228,\n",
       "           143,   166,   228,   140,   185,   228,   140,   192, 29871,   228,\n",
       "           141,   171,   228,   144,   144,   228,   140,   179,   228,   141,\n",
       "           158, 29871,   228,   141,   168,   228,   141,   150, 29871,   228,\n",
       "           140,   163,   228,   139,   184,   228,   139,   144,   228,   140,\n",
       "           182,   228,   142,   141, 29871,   228,   139,   176,   228,   140,\n",
       "           168,   228,   139,   171,   228,   140,   168, 29871,   228,   140,\n",
       "           163,   228,   140,   132,   228,   143,   168,   228,   143,   168,\n",
       "           228,   139,   176, 29871,   228,   139,   184,   228,   139,   176,\n",
       "         29871,   228,   139,   144,   228,   142,   140,   228,   139,   144,\n",
       "         29871,   228,   140,   192,   228,   139,   139,   228,   142,   142,\n",
       "           228,   139,   144, 29871,   228,   140,   131,   228,   139,   173,\n",
       "           228,   142,   140,   228,   141,   152, 29871,   228,   143,   140,\n",
       "           228,   142,   182,   228,   142,   176, 29871,   228,   142,   171,\n",
       "           228,   139,   160,   228,   139,   155,   228,   139,   139,   228,\n",
       "           141,   171,   228,   140,   179,   228,   142,   144, 29871,   228,\n",
       "           141,   163,   228,   141,   174,   228,   139,   144, 29871,   228,\n",
       "           140,   163,   228,   139,   158,   228,   143,   166,   228,   139,\n",
       "           174,   228,   140,   184, 29871,   228,   139,   142,   228,   142,\n",
       "           176, 29871,   228,   142,   176,   228,   143,   139,   228,   141,\n",
       "           158,   228,   139,   144,   228,   144,   165, 29871,   228,   143,\n",
       "           139,   228,   141,   152,   228,   142,   155,   228,   140,   164,\n",
       "           228,   139,   160, 29871,   228,   139,   139,   228,   143,   141,\n",
       "           228,   142,   159,   228,   142,   144, 29871,   228,   140,   163,\n",
       "           228,   141,   171,   228,   140,   179,   228,   139,   158,   228,\n",
       "           142,   144, 29871,   228,   140,   163,   228,   139,   160,   228,\n",
       "           143,   139,   228,   141,   160,   315, 15349, 29871,   228,   140,\n",
       "           166,   228,   141,   152,   228,   141,   176, 29871,   228,   140,\n",
       "           163,   228,   144,   143,   228,   142,   179,   228,   139,   174,\n",
       "           228,   139,   144, 29871,   228,   144,   153,   228,   139,   141,\n",
       "           228,   139,   184, 29871,   228,   141,   168,   228,   141,   150,\n",
       "         29871,   228,   140,   163,   228,   142,   139,   228,   139,   171,\n",
       "           228,   142,   182,   228,   142,   144, 29871,   228,   144,   153,\n",
       "           228,   139,   141,   228,   139,   184, 29871,   228,   141,   168,\n",
       "           228,   142,   171,   228,   140,   179,   228,   143,   163,   228,\n",
       "           140,   163,   228,   140,   131, 29871,   228,   142,   176,   228,\n",
       "           143,   139,   228,   141,   158,   228,   139,   144,   228,   144,\n",
       "           165, 29871, 30211,   228,   144,   145,   228,   140,   185,   319,\n",
       "         22670, 29898, 29911, 23328, 20449, 29950,   382,  4690, 29897,   732,\n",
       "         29873, 10199,   370, 24437,   311,   732, 29873,   638, 29894,   801,\n",
       "           621, 21260,   423]])"
      ]
     },
     "execution_count": 51,
     "metadata": {},
     "output_type": "execute_result"
    }
   ],
   "source": [
    "input_ids"
   ]
  },
  {
   "cell_type": "code",
   "execution_count": 52,
   "id": "64496e61-f2d0-43d3-923c-b962ad3072e4",
   "metadata": {},
   "outputs": [
    {
     "name": "stdout",
     "output_type": "stream",
     "text": [
      "['<s>', '▁', '<0xE1>', '<0x8C>', '<0xA8>', '<0xE1>', '<0x8A>', '<0x93>', '<0xE2>', '<0xAC>', '<0x86>', '️', '▁', '<0xE1>', '<0x89>', '<0xA0>', '<0xE1>', '<0x8A>', '<0xA8>', '<0xE1>', '<0x8D>', '<0x8B>', '▁', '<0xE1>', '<0x8B>', '<0x9E>', '<0xE1>', '<0x8A>', '<0x95>', '▁', '<0xE1>', '<0x8B>', '<0x88>', '<0xE1>', '<0x88>', '<0xA8>', '<0xE1>', '<0x8B>', '<0xB3>', '▁', '1', '8', '/', '0', '1', '/', '2', '0', '1', '1', '▁', '<0xE1>', '<0x8A>', '<0xA3>', '<0xE1>', '<0x88>', '<0x9D>', '▁', '<0xE1>', '<0x89>', '<0xA3>', '<0xE1>', '<0x88>', '<0x88>', '<0xE1>', '<0x89>', '<0xA4>', '<0xE1>', '<0x89>', '<0xB5>', '<0xE1>', '<0x8A>', '<0x90>', '<0xE1>', '<0x89>', '<0xB1>', '▁', '<0xE1>', '<0x8B>', '<0xA8>', '<0xE1>', '<0x88>', '<0x9B>', '<0xE1>', '<0x8A>', '<0x95>', '▁', '<0xE1>', '<0x8A>', '<0xA5>', '<0xE1>', '<0x8A>', '<0x95>', '<0xE1>', '<0x8B>', '<0xB0>', '▁', '<0xE1>', '<0x88>', '<0x86>', '<0xE1>', '<0x8A>', '<0x90>', '▁', '<0xE1>', '<0x8A>', '<0xA5>', '<0xE1>', '<0x8A>', '<0x93>', '▁', '<0xE1>', '<0x88>', '<0x88>', '<0xE1>', '<0x88>', '<0x9D>', '<0xE1>', '<0x8A>', '<0x95>', '▁', '<0xE1>', '<0x8A>', '<0xA0>', '<0xE1>', '<0x88>', '<0x8B>', '<0xE1>', '<0x88>', '<0x9B>', '▁', '<0xE1>', '<0x8A>', '<0xA5>', '<0xE1>', '<0x8A>', '<0x95>', '<0xE1>', '<0x8B>', '<0xB0>', '▁', '<0xE1>', '<0x88>', '<0x86>', '<0xE1>', '<0x8A>', '<0x90>', '▁', '<0xE1>', '<0x8B>', '<0xAB>', '<0xE1>', '<0x88>', '<0x8D>', '<0xE1>', '<0x89>', '<0xB3>', '<0xE1>', '<0x8B>', '<0x88>', '<0xE1>', '<0x89>', '<0x80>', '▁', '<0xE1>', '<0x8C>', '<0x8D>', '<0xE1>', '<0x88>', '<0x9D>', '<0xE1>', '<0x89>', '<0xB1>', '▁', '<0xE1>', '<0x8A>', '<0xA8>', '▁', '2', '8', ',', '0', '0', '0', ',', '0', '0', '0', '▁', '<0xE1>', '<0x89>', '<0xA0>', '<0xE1>', '<0x88>', '<0xAD>', '▁', '<0xE1>', '<0x89>', '<0xA0>', '<0xE1>', '<0x88>', '<0x8B>', '<0xE1>', '<0x8B>', '<0xAD>', '▁', '5', '▁', '<0xE1>', '<0x8A>', '<0xA9>', '<0xE1>', '<0x88>', '<0x9D>', '<0xE1>', '<0x89>', '<0xB3>', '<0xE1>', '<0x88>', '<0x8D>', '▁', '<0xE1>', '<0x8B>', '<0xA8>', '<0xE1>', '<0x8A>', '<0xA2>', '<0xE1>', '<0x89>', '<0xB5>', '<0xE1>', '<0x8B>', '<0xAE>', '<0xE1>', '<0x8C>', '<0xB5>', '<0xE1>', '<0x8B>', '<0xAB>', '▁', '<0xE1>', '<0x89>', '<0xA5>', '<0xE1>', '<0x88>', '<0xAD>', '▁', '<0xE1>', '<0x89>', '<0xA0>', '<0xE1>', '<0x8A>', '<0xAE>', '<0xE1>', '<0x8B>', '<0xB5>', '▁', '3', '▁', '<0xE1>', '<0x8A>', '<0xA0>', '▁', '<0xE1>', '<0x8A>', '<0xA0>', '▁', '4', '7', '8', '7', '5', '▁', '<0xE1>', '<0x89>', '<0xA0>', '<0xE1>', '<0x88>', '<0x86>', '<0xE1>', '<0x8A>', '<0x90>', '<0xE1>', '<0x89>', '<0xBD>', '▁', '<0xE1>', '<0x8D>', '<0x95>', '<0xE1>', '<0x8A>', '<0xAA>', '<0xE1>', '<0x8A>', '<0xA0>', '<0xE1>', '<0x8D>', '<0x95>', '▁', '<0xE1>', '<0x89>', '<0xB6>', '<0xE1>', '<0x8B>', '<0xAE>', '<0xE1>', '<0x89>', '<0xB3>', '▁', '<0xE1>', '<0x88>', '<0x98>', '<0xE1>', '<0x8A>', '<0xAA>', '<0xE1>', '<0x8A>', '<0x93>', '▁', '<0xE1>', '<0x8B>', '<0x88>', '<0xE1>', '<0x8B>', '<0xB0>', '▁', '<0xE1>', '<0x89>', '<0xA4>', '<0xE1>', '<0x8A>', '<0x95>', '<0xE1>', '<0x89>', '<0xBD>', '▁', '<0xE1>', '<0x88>', '<0x9B>', '<0xE1>', '<0x8C>', '<0x85>', '▁', '<0xE1>', '<0x8B>', '<0x9E>', '<0xE1>', '<0x8A>', '<0x95>', '▁', '<0xE1>', '<0x8A>', '<0xA0>', '<0xE1>', '<0x89>', '<0x85>', '<0xE1>', '<0x8C>', '<0xA3>', '<0xE1>', '<0x8C>', '<0xAB>', '▁', '<0xE1>', '<0x8A>', '<0xA5>', '<0xE1>', '<0x8B>', '<0xA8>', '<0xE1>', '<0x88>', '<0x84>', '<0xE1>', '<0x8B>', '<0xB0>', '<0xE1>', '<0x89>', '<0xBD>', '▁', '<0xE1>', '<0x88>', '<0xB3>', '<0xE1>', '<0x88>', '<0x88>', '▁', '<0xE1>', '<0x89>', '<0xA0>', '<0xE1>', '<0x8B>', '<0x8B>', '<0xE1>', '<0x89>', '<0xBB>', '▁', '<0xE1>', '<0x8A>', '<0xA8>', '<0xE1>', '<0x89>', '<0xB0>', '<0xE1>', '<0x88>', '<0x9B>', '▁', '<0xE1>', '<0x8B>', '<0x88>', '<0xE1>', '<0x8C>', '<0xA3>', '<0xE1>', '<0x89>', '<0xB6>', '<0xE1>', '<0x89>', '<0xBD>', '▁', '<0xE1>', '<0x8A>', '<0xA8>', '<0xE1>', '<0x8D>', '<0x8D>', '<0xE1>', '<0x89>', '<0xB0>', '<0xE1>', '<0x8A>', '<0x9B>', '▁', '<0xE1>', '<0x8A>', '<0xA5>', '<0xE1>', '<0x8A>', '<0x93>', '▁', '<0xE1>', '<0x89>', '<0xA0>', '<0xE1>', '<0x88>', '<0xB5>', '<0xE1>', '<0x88>', '<0x8D>', '<0xE1>', '<0x89>', '<0xB3>', '<0xE1>', '<0x8B>', '<0x8A>', '▁', '<0xE1>', '<0x88>', '<0xAD>', '<0xE1>', '<0x89>', '<0xA5>', '<0xE1>', '<0x88>', '<0xA8>', '<0xE1>', '<0x89>', '<0xA5>', '▁', '<0xE1>', '<0x89>', '<0xA0>', '<0xE1>', '<0x89>', '<0x81>', '<0xE1>', '<0x8C>', '<0xA5>', '<0xE1>', '<0x8C>', '<0xA5>', '<0xE1>', '<0x88>', '<0xAD>', '▁', '<0xE1>', '<0x88>', '<0xB5>', '<0xE1>', '<0x88>', '<0xAD>', '▁', '<0xE1>', '<0x88>', '<0x8D>', '<0xE1>', '<0x8B>', '<0x89>', '<0xE1>', '<0x88>', '<0x8D>', '▁', '<0xE1>', '<0x89>', '<0xBD>', '<0xE1>', '<0x88>', '<0x88>', '<0xE1>', '<0x8B>', '<0x8B>', '<0xE1>', '<0x88>', '<0x8D>', '▁', '<0xE1>', '<0x89>', '<0x80>', '<0xE1>', '<0x88>', '<0xAA>', '<0xE1>', '<0x8B>', '<0x89>', '<0xE1>', '<0x8A>', '<0x95>', '▁', '<0xE1>', '<0x8C>', '<0x89>', '<0xE1>', '<0x8B>', '<0xB3>', '<0xE1>', '<0x8B>', '<0xAD>', '▁', '<0xE1>', '<0x8B>', '<0xA8>', '<0xE1>', '<0x88>', '<0x9D>', '<0xE1>', '<0x88>', '<0x98>', '<0xE1>', '<0x88>', '<0x88>', '<0xE1>', '<0x8A>', '<0xA8>', '<0xE1>', '<0x89>', '<0xB0>', '<0xE1>', '<0x8B>', '<0x8D>', '▁', '<0xE1>', '<0x8A>', '<0xA0>', '<0xE1>', '<0x8A>', '<0xAB>', '<0xE1>', '<0x88>', '<0x8D>', '▁', '<0xE1>', '<0x89>', '<0xA0>', '<0xE1>', '<0x88>', '<0x9B>', '<0xE1>', '<0x8C>', '<0xA3>', '<0xE1>', '<0x88>', '<0xAB>', '<0xE1>', '<0x89>', '<0xB5>', '▁', '<0xE1>', '<0x88>', '<0x8B>', '<0xE1>', '<0x8B>', '<0xAD>', '▁', '<0xE1>', '<0x8B>', '<0xAD>', '<0xE1>', '<0x8C>', '<0x88>', '<0xE1>', '<0x8A>', '<0x9B>', '<0xE1>', '<0x88>', '<0x8D>', '<0xE1>', '<0x8D>', '<0xA2>', '▁', '<0xE1>', '<0x8C>', '<0x88>', '<0xE1>', '<0x8A>', '<0x95>', '<0xE1>', '<0x8B>', '<0x98>', '<0xE1>', '<0x89>', '<0xA1>', '<0xE1>', '<0x88>', '<0x9D>', '▁', '<0xE1>', '<0x88>', '<0x88>', '<0xE1>', '<0x8C>', '<0x8A>', '<0xE1>', '<0x8B>', '<0x9C>', '<0xE1>', '<0x8B>', '<0x8D>', '▁', '<0xE1>', '<0x89>', '<0xA0>', '<0xE1>', '<0x8A>', '<0xA8>', '<0xE1>', '<0x89>', '<0xB0>', '<0xE1>', '<0x88>', '<0x9B>', '<0xE1>', '<0x8B>', '<0x8D>', '▁', '<0xE1>', '<0x89>', '<0xA0>', '<0xE1>', '<0x88>', '<0x9D>', '<0xE1>', '<0x8C>', '<0x88>', '<0xE1>', '<0x8A>', '<0x9D>', '▁C', 'BE', '▁', '<0xE1>', '<0x89>', '<0xA3>', '<0xE1>', '<0x8A>', '<0x95>', '<0xE1>', '<0x8A>', '<0xAD>', '▁', '<0xE1>', '<0x89>', '<0xA0>', '<0xE1>', '<0x8D>', '<0x8C>', '<0xE1>', '<0x8B>', '<0xB0>', '<0xE1>', '<0x88>', '<0xAB>', '<0xE1>', '<0x88>', '<0x8D>', '▁', '<0xE1>', '<0x8D>', '<0x96>', '<0xE1>', '<0x88>', '<0x8A>', '<0xE1>', '<0x88>', '<0xB5>', '▁', '<0xE1>', '<0x8A>', '<0xA5>', '<0xE1>', '<0x8A>', '<0x93>', '▁', '<0xE1>', '<0x89>', '<0xA0>', '<0xE1>', '<0x8B>', '<0x88>', '<0xE1>', '<0x88>', '<0xA8>', '<0xE1>', '<0x8B>', '<0xB3>', '<0xE1>', '<0x8B>', '<0x8D>', '▁', '<0xE1>', '<0x8D>', '<0x96>', '<0xE1>', '<0x88>', '<0x8A>', '<0xE1>', '<0x88>', '<0xB5>', '▁', '<0xE1>', '<0x8A>', '<0xA5>', '<0xE1>', '<0x8B>', '<0xA8>', '<0xE1>', '<0x89>', '<0xB0>', '<0xE1>', '<0x8C>', '<0xA0>', '<0xE1>', '<0x89>', '<0xA0>', '<0xE1>', '<0x89>', '<0x80>', '▁', '<0xE1>', '<0x8B>', '<0xAD>', '<0xE1>', '<0x8C>', '<0x88>', '<0xE1>', '<0x8A>', '<0x9B>', '<0xE1>', '<0x88>', '<0x8D>', '<0xE1>', '<0x8D>', '<0xA2>', '▁', '©', '<0xE1>', '<0x8D>', '<0x8E>', '<0xE1>', '<0x89>', '<0xB6>', '▁A', 'manuel', '(', 'T', 'IK', 'VA', 'H', '▁E', 'TH', ')', '▁@', 't', 'seg', 'ab', 'wol', 'de', '▁@', 't', 'ik', 'v', 'ah', 'eth', 'iop', 'ia']\n"
     ]
    }
   ],
   "source": [
    "tokenized_text = tokenizer.convert_ids_to_tokens(input_ids.squeeze())\n",
    "\n",
    "print(tokenized_text)"
   ]
  },
  {
   "cell_type": "code",
   "execution_count": 97,
   "id": "d7373e91-8429-4a28-9aa3-14319c1a8d50",
   "metadata": {},
   "outputs": [
    {
     "data": {
      "text/html": [
       "<div>\n",
       "<style scoped>\n",
       "    .dataframe tbody tr th:only-of-type {\n",
       "        vertical-align: middle;\n",
       "    }\n",
       "\n",
       "    .dataframe tbody tr th {\n",
       "        vertical-align: top;\n",
       "    }\n",
       "\n",
       "    .dataframe thead th {\n",
       "        text-align: right;\n",
       "    }\n",
       "</style>\n",
       "<table border=\"1\" class=\"dataframe\">\n",
       "  <thead>\n",
       "    <tr style=\"text-align: right;\">\n",
       "      <th></th>\n",
       "      <th>Unnamed: 0</th>\n",
       "      <th>channel_id</th>\n",
       "      <th>message_id</th>\n",
       "      <th>text</th>\n",
       "      <th>label</th>\n",
       "      <th>email</th>\n",
       "    </tr>\n",
       "  </thead>\n",
       "  <tbody>\n",
       "    <tr>\n",
       "      <th>0</th>\n",
       "      <td>0</td>\n",
       "      <td>1130580549</td>\n",
       "      <td>15001</td>\n",
       "      <td>ጨና⬆️ በከፋ ዞን ወረዳ 18/01/2011 ኣም ባለቤትነቱ የማን እንደ ሆ...</td>\n",
       "      <td>NaN</td>\n",
       "      <td>g2@trainee.com</td>\n",
       "    </tr>\n",
       "    <tr>\n",
       "      <th>1</th>\n",
       "      <td>1</td>\n",
       "      <td>1130580549</td>\n",
       "      <td>15002</td>\n",
       "      <td>ለፌደራሉ መንግስት‼️ በቤንሻንጉል ጉምዝ ክልል ያለውን ሁኔታ በፍጥነት መ...</td>\n",
       "      <td>NaN</td>\n",
       "      <td>g2@trainee.com</td>\n",
       "    </tr>\n",
       "    <tr>\n",
       "      <th>2</th>\n",
       "      <td>2</td>\n",
       "      <td>1130580549</td>\n",
       "      <td>15006</td>\n",
       "      <td>ኢንጂነር ታከለ ኡማ⬆️ የሀገር ሽማግሌዎች ተግባር አለምን ያስደነቀ፣ ለሁ...</td>\n",
       "      <td>NaN</td>\n",
       "      <td>g2@trainee.com</td>\n",
       "    </tr>\n",
       "    <tr>\n",
       "      <th>3</th>\n",
       "      <td>3</td>\n",
       "      <td>1130580549</td>\n",
       "      <td>15007</td>\n",
       "      <td>📌መኤሶ ትላንት 2 ሰኣት ከጅቡቲ ተነስተው የነበሩ ተጓዦች ካሳ አልተከፈለ...</td>\n",
       "      <td>NaN</td>\n",
       "      <td>g2@trainee.com</td>\n",
       "    </tr>\n",
       "    <tr>\n",
       "      <th>4</th>\n",
       "      <td>4</td>\n",
       "      <td>1130580549</td>\n",
       "      <td>15008</td>\n",
       "      <td>የኢሬቻ የሰላም ሽልማት🕊 ሀገር በቀል ባህሎችን በማጎልበት ለሀገራዊ ፋይዳ...</td>\n",
       "      <td>NaN</td>\n",
       "      <td>g2@trainee.com</td>\n",
       "    </tr>\n",
       "  </tbody>\n",
       "</table>\n",
       "</div>"
      ],
      "text/plain": [
       "   Unnamed: 0  channel_id  message_id  \\\n",
       "0           0  1130580549       15001   \n",
       "1           1  1130580549       15002   \n",
       "2           2  1130580549       15006   \n",
       "3           3  1130580549       15007   \n",
       "4           4  1130580549       15008   \n",
       "\n",
       "                                                text label           email  \n",
       "0  ጨና⬆️ በከፋ ዞን ወረዳ 18/01/2011 ኣም ባለቤትነቱ የማን እንደ ሆ...   NaN  g2@trainee.com  \n",
       "1  ለፌደራሉ መንግስት‼️ በቤንሻንጉል ጉምዝ ክልል ያለውን ሁኔታ በፍጥነት መ...   NaN  g2@trainee.com  \n",
       "2  ኢንጂነር ታከለ ኡማ⬆️ የሀገር ሽማግሌዎች ተግባር አለምን ያስደነቀ፣ ለሁ...   NaN  g2@trainee.com  \n",
       "3  📌መኤሶ ትላንት 2 ሰኣት ከጅቡቲ ተነስተው የነበሩ ተጓዦች ካሳ አልተከፈለ...   NaN  g2@trainee.com  \n",
       "4  የኢሬቻ የሰላም ሽልማት🕊 ሀገር በቀል ባህሎችን በማጎልበት ለሀገራዊ ፋይዳ...   NaN  g2@trainee.com  "
      ]
     },
     "execution_count": 97,
     "metadata": {},
     "output_type": "execute_result"
    }
   ],
   "source": [
    "df.head()"
   ]
  },
  {
   "cell_type": "code",
   "execution_count": 118,
   "id": "e78dc7dd-f377-40d5-bcdb-8325b2acda16",
   "metadata": {},
   "outputs": [],
   "source": [
    "labels = type(df['label'][0])"
   ]
  },
  {
   "cell_type": "code",
   "execution_count": 119,
   "id": "f79f1b3f-f83f-4975-9b7e-cc263ca8e547",
   "metadata": {},
   "outputs": [
    {
     "data": {
      "text/plain": [
       "float"
      ]
     },
     "execution_count": 119,
     "metadata": {},
     "output_type": "execute_result"
    }
   ],
   "source": [
    "labels"
   ]
  },
  {
   "cell_type": "code",
   "execution_count": 120,
   "id": "b62e8304-8d84-41d1-b86c-6c43ebcbcf48",
   "metadata": {},
   "outputs": [],
   "source": [
    "filterd = df[ df['label'].notnull() ]"
   ]
  },
  {
   "cell_type": "code",
   "execution_count": 121,
   "id": "8690eb86-3f09-4f05-b980-bbfff3ff8e15",
   "metadata": {},
   "outputs": [
    {
     "data": {
      "text/plain": [
       "62"
      ]
     },
     "execution_count": 121,
     "metadata": {},
     "output_type": "execute_result"
    }
   ],
   "source": [
    "text = filterd['text']\n",
    "len(text)"
   ]
  },
  {
   "cell_type": "code",
   "execution_count": 115,
   "id": "5f6af6ab-8f7f-4f8d-8d1c-79f0eeb15ee4",
   "metadata": {},
   "outputs": [],
   "source": [
    "filterd = df2[ df2['label'].notnull() ]"
   ]
  },
  {
   "cell_type": "code",
   "execution_count": 116,
   "id": "a91cb36f-8216-4fe8-8ec2-d0f24dd0d793",
   "metadata": {},
   "outputs": [
    {
     "data": {
      "text/plain": [
       "746"
      ]
     },
     "execution_count": 116,
     "metadata": {},
     "output_type": "execute_result"
    }
   ],
   "source": [
    "len(filterd)"
   ]
  },
  {
   "cell_type": "code",
   "execution_count": 123,
   "id": "7d2011c6-4ba2-4ca5-8f62-3674b0d2521c",
   "metadata": {},
   "outputs": [
    {
     "name": "stderr",
     "output_type": "stream",
     "text": [
      "huggingface/tokenizers: The current process just got forked, after parallelism has already been used. Disabling parallelism to avoid deadlocks...\n",
      "To disable this warning, you can either:\n",
      "\t- Avoid using `tokenizers` before the fork if possible\n",
      "\t- Explicitly set the environment variable TOKENIZERS_PARALLELISM=(true | false)\n"
     ]
    },
    {
     "name": "stdout",
     "output_type": "stream",
     "text": [
      "Defaulting to user installation because normal site-packages is not writeable\n",
      "Requirement already satisfied: tokenizers in /home/eyaya/.local/lib/python3.10/site-packages (0.15.0)\n",
      "Requirement already satisfied: huggingface_hub<1.0,>=0.16.4 in /home/eyaya/.local/lib/python3.10/site-packages (from tokenizers) (0.20.1)\n",
      "Requirement already satisfied: filelock in /usr/local/lib/python3.10/dist-packages (from huggingface_hub<1.0,>=0.16.4->tokenizers) (3.13.1)\n",
      "Requirement already satisfied: fsspec>=2023.5.0 in /home/eyaya/.local/lib/python3.10/site-packages (from huggingface_hub<1.0,>=0.16.4->tokenizers) (2023.10.0)\n",
      "Requirement already satisfied: requests in /home/eyaya/.local/lib/python3.10/site-packages (from huggingface_hub<1.0,>=0.16.4->tokenizers) (2.31.0)\n",
      "Requirement already satisfied: tqdm>=4.42.1 in /home/eyaya/.local/lib/python3.10/site-packages (from huggingface_hub<1.0,>=0.16.4->tokenizers) (4.66.1)\n",
      "Requirement already satisfied: pyyaml>=5.1 in /home/eyaya/.local/lib/python3.10/site-packages (from huggingface_hub<1.0,>=0.16.4->tokenizers) (6.0.1)\n",
      "Requirement already satisfied: typing-extensions>=3.7.4.3 in /home/eyaya/.local/lib/python3.10/site-packages (from huggingface_hub<1.0,>=0.16.4->tokenizers) (4.9.0)\n",
      "Requirement already satisfied: packaging>=20.9 in /home/eyaya/.local/lib/python3.10/site-packages (from huggingface_hub<1.0,>=0.16.4->tokenizers) (23.2)\n",
      "Requirement already satisfied: charset-normalizer<4,>=2 in /home/eyaya/.local/lib/python3.10/site-packages (from requests->huggingface_hub<1.0,>=0.16.4->tokenizers) (3.3.2)\n",
      "Requirement already satisfied: idna<4,>=2.5 in /home/eyaya/.local/lib/python3.10/site-packages (from requests->huggingface_hub<1.0,>=0.16.4->tokenizers) (3.6)\n",
      "Requirement already satisfied: urllib3<3,>=1.21.1 in /home/eyaya/.local/lib/python3.10/site-packages (from requests->huggingface_hub<1.0,>=0.16.4->tokenizers) (2.1.0)\n",
      "Requirement already satisfied: certifi>=2017.4.17 in /home/eyaya/.local/lib/python3.10/site-packages (from requests->huggingface_hub<1.0,>=0.16.4->tokenizers) (2023.11.17)\n"
     ]
    }
   ],
   "source": [
    "!pip3 install tokenizers"
   ]
  },
  {
   "cell_type": "code",
   "execution_count": 140,
   "id": "b718ea01-cd68-4872-a9a5-616366ce3802",
   "metadata": {},
   "outputs": [],
   "source": [
    "import random\n",
    "\n",
    "import pathlib\n",
    "\n",
    "import tokenizers\n",
    "\n",
    "from tokenizers.models import BPE\n",
    "\n",
    "from tokenizers.trainers import BpeTrainer\n",
    "\n",
    "from tokenizers.pre_tokenizers import Whitespace"
   ]
  },
  {
   "cell_type": "code",
   "execution_count": 141,
   "id": "40d4b063-5614-42aa-86dd-a910445857e2",
   "metadata": {},
   "outputs": [],
   "source": [
    "# Training parameters\n",
    "vocab_size = 5000\n",
    "min_frequency = 2\n",
    "special_tokens = [\"\", \"<pad>\", \"<bos>\", \"<eos>\", \" \"]\n",
    "\n",
    "# Path to the training data\n",
    "data_path = \"sample.txt\""
   ]
  },
  {
   "cell_type": "code",
   "execution_count": 142,
   "id": "9eedbbf2-ab20-42f6-8980-5220ffbf2929",
   "metadata": {},
   "outputs": [
    {
     "name": "stdout",
     "output_type": "stream",
     "text": [
      "በቅርቡ በርካታ ፖለቲካዊ የአሰላ\n"
     ]
    }
   ],
   "source": [
    "# Load the training data\n",
    "with open(data_path, \"r\", encoding=\"utf-8\") as f:\n",
    "    text = f.read()\n",
    "\n",
    "# Clean the text data\n",
    "import re\n",
    "print(text[:20])"
   ]
  },
  {
   "cell_type": "code",
   "execution_count": 143,
   "id": "ec67107d-96fe-4343-bc38-32774421b7ed",
   "metadata": {},
   "outputs": [],
   "source": [
    "\n",
    "text = re.sub(r\"[^\\w\\s]\", \" \", text)"
   ]
  },
  {
   "cell_type": "code",
   "execution_count": 144,
   "id": "3444744d-f964-44f5-81be-b978d47be884",
   "metadata": {},
   "outputs": [
    {
     "name": "stdout",
     "output_type": "stream",
     "text": [
      "\n",
      "\n",
      "\n"
     ]
    }
   ],
   "source": [
    "# Tokenize the text data\n",
    "tokenizer = tokenizers.Tokenizer(BPE())\n",
    "tokenizer.pre_tokenizer = Whitespace()\n",
    "trainer = BpeTrainer(vocab_size=vocab_size, min_frequency=min_frequency)\n",
    "tokenizer.train_from_iterator([\" \".join(text.split(' '))], trainer)"
   ]
  },
  {
   "cell_type": "code",
   "execution_count": 145,
   "id": "91442fc5-0d67-42b3-8fb3-1691239e15d9",
   "metadata": {},
   "outputs": [
    {
     "name": "stdout",
     "output_type": "stream",
     "text": [
      "[86, 82, 53, 53, 53, 43, 53, 11]\n",
      "['እ', 'አ', 'በ', 'በ', 'በ', 'ሶ', 'በ', 'ላ']\n"
     ]
    }
   ],
   "source": [
    "# Tokenize Amharic text\n",
    "\n",
    "amharic_text = \"እአበበ በሶ በላ።\"\n",
    "\n",
    "encoded_text = tokenizer.encode(amharic_text)\n",
    "\n",
    "print(encoded_text.ids)\n",
    "\n",
    "print(encoded_text.tokens)"
   ]
  },
  {
   "cell_type": "code",
   "execution_count": 153,
   "id": "29f4202b-db5f-49eb-8194-6c15fc22589a",
   "metadata": {},
   "outputs": [],
   "source": [
    "def word_pre_tokenizer(text: str) -> list[str]:\n",
    "\n",
    "    return text.split()"
   ]
  },
  {
   "cell_type": "code",
   "execution_count": 151,
   "id": "cb4c2237-9de6-4fdc-b482-5e5d618c89fd",
   "metadata": {},
   "outputs": [
    {
     "ename": "AttributeError",
     "evalue": "module 'tokenizers' has no attribute 'PreTokenizer'",
     "output_type": "error",
     "traceback": [
      "\u001b[0;31m---------------------------------------------------------------------------\u001b[0m",
      "\u001b[0;31mAttributeError\u001b[0m                            Traceback (most recent call last)",
      "Cell \u001b[0;32mIn[151], line 1\u001b[0m\n\u001b[0;32m----> 1\u001b[0m \u001b[38;5;28;01mclass\u001b[39;00m \u001b[38;5;21;01mWordPreTokenizer\u001b[39;00m(\u001b[43mtokenizers\u001b[49m\u001b[38;5;241;43m.\u001b[39;49m\u001b[43mPreTokenizer\u001b[49m):\n\u001b[1;32m      3\u001b[0m     \u001b[38;5;28;01mdef\u001b[39;00m \u001b[38;5;21m__init__\u001b[39m(\u001b[38;5;28mself\u001b[39m):\n\u001b[1;32m      5\u001b[0m         \u001b[38;5;28msuper\u001b[39m()\u001b[38;5;241m.\u001b[39m\u001b[38;5;21m__init__\u001b[39m()\n",
      "\u001b[0;31mAttributeError\u001b[0m: module 'tokenizers' has no attribute 'PreTokenizer'"
     ]
    }
   ],
   "source": [
    "class WordPreTokenizer(tokenizers.PreTokenizer):\n",
    "\n",
    "    def __init__(self):\n",
    "\n",
    "        super().__init__()\n",
    "\n",
    "\n",
    "    def pre_tokenize(self, text: str) -> List[str]:\n",
    "\n",
    "        return text.split()"
   ]
  },
  {
   "cell_type": "code",
   "execution_count": 155,
   "id": "677d61c3-4b16-4623-b31c-833e2e73c4de",
   "metadata": {},
   "outputs": [
    {
     "ename": "TypeError",
     "evalue": "word_pre_tokenizer() missing 1 required positional argument: 'text'",
     "output_type": "error",
     "traceback": [
      "\u001b[0;31m---------------------------------------------------------------------------\u001b[0m",
      "\u001b[0;31mTypeError\u001b[0m                                 Traceback (most recent call last)",
      "Cell \u001b[0;32mIn[155], line 5\u001b[0m\n\u001b[1;32m      1\u001b[0m \u001b[38;5;66;03m# Tokenize the text data\u001b[39;00m\n\u001b[1;32m      3\u001b[0m tokenizer \u001b[38;5;241m=\u001b[39m tokenizers\u001b[38;5;241m.\u001b[39mTokenizer(BPE())\n\u001b[0;32m----> 5\u001b[0m tokenizer\u001b[38;5;241m.\u001b[39mpre_tokenizer \u001b[38;5;241m=\u001b[39m \u001b[43mword_pre_tokenizer\u001b[49m\u001b[43m(\u001b[49m\u001b[43m)\u001b[49m\n\u001b[1;32m      7\u001b[0m trainer \u001b[38;5;241m=\u001b[39m BpeTrainer(vocab_size\u001b[38;5;241m=\u001b[39mvocab_size, min_frequency\u001b[38;5;241m=\u001b[39mmin_frequency)\n\u001b[1;32m      9\u001b[0m tokenizer\u001b[38;5;241m.\u001b[39mtrain_from_iterator([\u001b[38;5;124m\"\u001b[39m\u001b[38;5;124m \u001b[39m\u001b[38;5;124m\"\u001b[39m\u001b[38;5;241m.\u001b[39mjoin(text\u001b[38;5;241m.\u001b[39msplit())], trainer)\n",
      "\u001b[0;31mTypeError\u001b[0m: word_pre_tokenizer() missing 1 required positional argument: 'text'"
     ]
    }
   ],
   "source": [
    "# Tokenize the text data\n",
    "\n",
    "tokenizer = tokenizers.Tokenizer(BPE())\n",
    "\n",
    "tokenizer.pre_tokenizer = word_pre_tokenizer()\n",
    "\n",
    "trainer = BpeTrainer(vocab_size=vocab_size, min_frequency=min_frequency)\n",
    "\n",
    "tokenizer.train_from_iterator([\" \".join(text.split())], trainer)"
   ]
  },
  {
   "cell_type": "code",
   "execution_count": 152,
   "id": "fba78cb5-15f4-48aa-b41f-d85156cbe292",
   "metadata": {},
   "outputs": [
    {
     "ename": "TypeError",
     "evalue": "'function' object cannot be converted to 'PreTokenizer'",
     "output_type": "error",
     "traceback": [
      "\u001b[0;31m---------------------------------------------------------------------------\u001b[0m",
      "\u001b[0;31mTypeError\u001b[0m                                 Traceback (most recent call last)",
      "Cell \u001b[0;32mIn[152], line 19\u001b[0m\n\u001b[1;32m     15\u001b[0m \u001b[38;5;66;03m# Tokenize the text data\u001b[39;00m\n\u001b[1;32m     17\u001b[0m tokenizer \u001b[38;5;241m=\u001b[39m tokenizers\u001b[38;5;241m.\u001b[39mTokenizer(BPE())\n\u001b[0;32m---> 19\u001b[0m \u001b[43mtokenizer\u001b[49m\u001b[38;5;241;43m.\u001b[39;49m\u001b[43mpre_tokenizer\u001b[49m \u001b[38;5;241m=\u001b[39m word_pre_tokenizer\n\u001b[1;32m     21\u001b[0m trainer \u001b[38;5;241m=\u001b[39m BpeTrainer(vocab_size\u001b[38;5;241m=\u001b[39mvocab_size, min_frequency\u001b[38;5;241m=\u001b[39mmin_frequency)\n\u001b[1;32m     23\u001b[0m tokenizer\u001b[38;5;241m.\u001b[39mtrain_from_iterator([\u001b[38;5;124m\"\u001b[39m\u001b[38;5;124m \u001b[39m\u001b[38;5;124m\"\u001b[39m\u001b[38;5;241m.\u001b[39mjoin(\u001b[38;5;28mopen\u001b[39m(data_path, \u001b[38;5;124m\"\u001b[39m\u001b[38;5;124mr\u001b[39m\u001b[38;5;124m\"\u001b[39m, encoding\u001b[38;5;241m=\u001b[39m\u001b[38;5;124m\"\u001b[39m\u001b[38;5;124mutf-8\u001b[39m\u001b[38;5;124m\"\u001b[39m)\u001b[38;5;241m.\u001b[39mread()\u001b[38;5;241m.\u001b[39msplit())], trainer)\n",
      "\u001b[0;31mTypeError\u001b[0m: 'function' object cannot be converted to 'PreTokenizer'"
     ]
    }
   ],
   "source": [
    "# Training parameters\n",
    "\n",
    "vocab_size = 5000\n",
    "\n",
    "min_frequency = 2\n",
    "\n",
    "special_tokens = [\"\", \"<pad>\", \"<bos>\", \"<eos>\", \" \"]\n",
    "\n",
    "\n",
    "# Path to the training data\n",
    "\n",
    "data_path = \"sample.txt\"\n",
    "\n",
    "\n",
    "# Tokenize the text data\n",
    "\n",
    "tokenizer = tokenizers.Tokenizer(BPE())\n",
    "\n",
    "tokenizer.pre_tokenizer = word_pre_tokenizer\n",
    "\n",
    "trainer = BpeTrainer(vocab_size=vocab_size, min_frequency=min_frequency)\n",
    "\n",
    "tokenizer.train_from_iterator([\" \".join(open(data_path, \"r\", encoding=\"utf-8\").read().split())], trainer)"
   ]
  },
  {
   "cell_type": "code",
   "execution_count": null,
   "id": "a052d40f-849c-4d4a-9012-cb688ecfb81d",
   "metadata": {},
   "outputs": [],
   "source": []
  }
 ],
 "metadata": {
  "kernelspec": {
   "display_name": "Python 3 (ipykernel)",
   "language": "python",
   "name": "python3"
  },
  "language_info": {
   "codemirror_mode": {
    "name": "ipython",
    "version": 3
   },
   "file_extension": ".py",
   "mimetype": "text/x-python",
   "name": "python",
   "nbconvert_exporter": "python",
   "pygments_lexer": "ipython3",
   "version": "3.10.12"
  }
 },
 "nbformat": 4,
 "nbformat_minor": 5
}
